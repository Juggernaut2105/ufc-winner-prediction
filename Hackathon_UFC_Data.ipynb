{
 "cells": [
  {
   "cell_type": "markdown",
   "metadata": {
    "id": "uZeNxT9v6Qan"
   },
   "source": [
    "# Предсказание бойца - победителя UFC\n",
    "## Подготовка и исследование данных\n",
    "### Межгалактический хакатон 2022\n",
    "Команда \"Meldonium\" <br/>\n",
    "Состав: Вячеслав Барков, Павел Мамаев, Сергей Глуховский, Алексей Недоливко, Андрей Рем, Иван Ершов\n"
   ]
  },
  {
   "cell_type": "markdown",
   "metadata": {
    "id": "R5KVkil5lxhS"
   },
   "source": [
    "### Настроим окружение"
   ]
  },
  {
   "cell_type": "code",
   "execution_count": 24,
   "metadata": {
    "id": "uKuoaHQcUTdu"
   },
   "outputs": [],
   "source": [
    "import pandas as pd\n",
    "import numpy as np\n",
    "import json\n",
    "from scipy import stats\n",
    "from datetime import datetime\n",
    "from typing import Dict, List\n",
    "import ast\n",
    "import pickle\n",
    "import os\n",
    "\n",
    "ROOT_FOLDER = '.'\n",
    "DATA_FOLDER = os.path.join(ROOT_FOLDER,'data/')"
   ]
  },
  {
   "cell_type": "markdown",
   "metadata": {
    "id": "jtXF_catxKQI"
   },
   "source": [
    "### Вспомогательные функции"
   ]
  },
  {
   "cell_type": "code",
   "execution_count": 25,
   "metadata": {
    "id": "ViAzYT-5xJi-"
   },
   "outputs": [],
   "source": [
    "def parse_odds(row: pd.Series) -> pd.Series:\n",
    "    \"\"\"\n",
    "    Parse 'avgOdds' column.\n",
    "    :param row: Row of the events dataframe.\n",
    "    :return: pd.Series with odds for the 1st and the 2nd fighters.\n",
    "    \"\"\"\n",
    "    avg_odds = row[\"avgOdds\"]\n",
    "    if avg_odds == \"[]\" or avg_odds == np.nan:\n",
    "        return pd.Series([np.nan] * 2)\n",
    "    avg_odds = ast.literal_eval(avg_odds)\n",
    "    if avg_odds[0][\"fighterId\"] == row[\"fighterId_1\"]:\n",
    "        return pd.Series([f.get(\"value\", np.nan) for f in avg_odds])\n",
    "    else:\n",
    "        return pd.Series([f.get(\"value\", np.nan) for f in reversed(avg_odds)])"
   ]
  },
  {
   "cell_type": "code",
   "execution_count": 26,
   "metadata": {
    "id": "ENCajXDczXEC"
   },
   "outputs": [],
   "source": [
    "fighter_stats_keys = [ \"hitsTotal\", \"hitsSuccessful\", \"takedownTotal\",\n",
    "                        \"takedownSuccessful\", \"submissionAttempts\",\n",
    "                        \"takeovers\", \"accentedHitsTotal\",\n",
    "                        \"accentedHitsSuccessful\", \"knockdowns\",\n",
    "                        \"protectionPassage\", \"hitsHeadTotal\",\n",
    "                        \"hitsHeadSuccessful\", \"hitsBodyTotal\",\n",
    "                        \"hitsBodySuccessful\", \"hitsLegsTotal\",\n",
    "                        \"hitsLegsSuccessful\",\n",
    "                        \"accentedHitsPositionDistanceTotal\",\n",
    "                        \"accentedHitsPositionDistanceSuccessful\",\n",
    "                        \"accentedHitsPositionClinchTotal\",\n",
    "                        \"accentedHitsPositionClinchSuccessful\",\n",
    "                        \"accentedHitsPositionParterTotal\",\n",
    "                        \"accentedHitsPositionParterSuccessful\"]"
   ]
  },
  {
   "cell_type": "code",
   "execution_count": 27,
   "metadata": {
    "id": "uAGQ_dKHxOv8"
   },
   "outputs": [],
   "source": [
    "def get_fighter_stats_cols(fighter_stats_keys: List[str] = fighter_stats_keys) -> List[str]:\n",
    "    \"\"\"\n",
    "    Get list of fight stats column names for each fighter.\n",
    "    :return: List of column names with 'f1_' prefix\n",
    "    for the first fighter and 'f2_' prefix for the second.\n",
    "    \"\"\"\n",
    "    fighter_attack_stats_cols = []\n",
    "\n",
    "    for i in range(1, 3):\n",
    "        for k in fighter_stats_keys:\n",
    "            fighter_attack_stats_cols.append(f\"f{i}_{k}\")\n",
    "\n",
    "    fighter_def_stats_cols = []\n",
    "    for i in range(1, 3):\n",
    "        for k in fighter_stats_keys:\n",
    "            fighter_def_stats_cols.append(f\"f{i}_def_{k}\")\n",
    "\n",
    "    return fighter_attack_stats_cols, fighter_def_stats_cols"
   ]
  },
  {
   "cell_type": "code",
   "execution_count": 28,
   "metadata": {
    "id": "q9JOmHiQzVC0"
   },
   "outputs": [],
   "source": [
    "def sum_round_stats(stats: List[Dict[str, int]],\n",
    "                    fighter_stats_keys: List[str] = fighter_stats_keys) -> List[int]:\n",
    "    \"\"\"\n",
    "    Sum stats for a fighter for all rounds of a fight.\n",
    "    :param stats: List with stats from object of 'fighters' column.\n",
    "    :return: Stats for all rounds for a fighter as a list.\n",
    "    \"\"\"\n",
    "    if len(stats) == 0:\n",
    "        return [np.nan for _ in range(len(fighter_stats_keys))]\n",
    "    res = {k: 0 for k in fighter_stats_keys}\n",
    "    for i in stats:\n",
    "        for k in res:\n",
    "            res[k] = i.get(k, 0)\n",
    "    return list(res.values())"
   ]
  },
  {
   "cell_type": "code",
   "execution_count": 29,
   "metadata": {
    "id": "Pzs9_9OCzMJg"
   },
   "outputs": [],
   "source": [
    "def parse_fight_data_attack(row: pd.Series,\n",
    "                            fighter_stats_keys: List[str] = fighter_stats_keys) -> pd.Series:\n",
    "    \"\"\"\n",
    "    Parse 'fighters' column.\n",
    "    :param row: Row of the events dataframe.\n",
    "    :return: pd.Series with stats for both fighters.\n",
    "    \"\"\"\n",
    "    fighters = row[\"fighters\"]\n",
    "    if fighters == \"[]\" or fighters == np.nan:\n",
    "        return pd.Series([np.nan for _ in range(len(fighter_stats_keys))])\n",
    "    cols = []\n",
    "    fighters = ast.literal_eval(fighters)\n",
    "    if fighters[0][\"fighterId\"] == row[\"fighterId_2\"]:\n",
    "        fighters = reversed(fighters)\n",
    "    for f in fighters:\n",
    "        cols.extend(sum_round_stats(f[\"roundStats\"]))\n",
    "    return pd.Series(cols)"
   ]
  },
  {
   "cell_type": "code",
   "execution_count": 30,
   "metadata": {
    "id": "-gOYdclLzRIi"
   },
   "outputs": [],
   "source": [
    "def parse_fight_data_defence(row: pd.Series,\n",
    "                             fighter_stats_keys: List[str] = fighter_stats_keys) -> pd.Series:\n",
    "    \"\"\"\n",
    "    Parse 'fighters' column.\n",
    "    :param row: Row of the events dataframe.\n",
    "    :return: pd.Series with stats for both fighters.\n",
    "    \"\"\"\n",
    "    fighters = row[\"fighters\"]\n",
    "    if fighters == \"[]\" or fighters == np.nan:\n",
    "        return pd.Series([np.nan for _ in range(len(fighter_stats_keys))])\n",
    "    cols = []\n",
    "    fighters = ast.literal_eval(fighters)\n",
    "    if fighters[0][\"fighterId\"] == row[\"fighterId_1\"]:\n",
    "        fighters = reversed(fighters)\n",
    "    for f in fighters:\n",
    "        cols.extend(sum_round_stats(f[\"roundStats\"]))\n",
    "    return pd.Series(cols)"
   ]
  },
  {
   "cell_type": "markdown",
   "metadata": {
    "id": "wpbg1poFYxU8"
   },
   "source": [
    "### Данные о бойцах"
   ]
  },
  {
   "cell_type": "code",
   "execution_count": 31,
   "metadata": {
    "id": "OWGLBjYiUTUD"
   },
   "outputs": [],
   "source": [
    "fighters_df = pd.read_csv(os.path.join(DATA_FOLDER, '0.fighters_raw.csv'), index_col='id')"
   ]
  },
  {
   "cell_type": "markdown",
   "metadata": {
    "id": "abbjpz9Bbv8f"
   },
   "source": [
    "Так как мы хотим получить модель которую можно использовать на реальных данных, необходимо исключить признаки которые содержат статистики, агрегированные на момент сбора данных чтобы исключить утечку данных. Это такие признаки, как avgFightTime, draws, knockdownsPerFight, looses, methods.*, rank и прочие.\\\n",
    "Также исключим признаки, которые не содержат данных, например disciplines, и признаки которые содержат так мало данных, что заполнять их пропуски бессмысленно, например признак legSwing содержится лишь у 20% бойцов.\n"
   ]
  },
  {
   "cell_type": "code",
   "execution_count": 32,
   "metadata": {
    "id": "-FC65y-9a-N2"
   },
   "outputs": [],
   "source": [
    "fighters_df = fighters_df.loc[:, ('name', 'dateOfBirth', 'country',\n",
    "                                  'city', 'timezone', 'height', 'armSpan',\n",
    "                                  'weight',  'weightCategory.id')]"
   ]
  },
  {
   "cell_type": "markdown",
   "metadata": {
    "id": "FAPGz8jZfKo-"
   },
   "source": [
    "Рассмотрим признак country - для бойцов из США признак может содержать полное название страны \"United States\", сокращенное \"USA\", название штата напр. \"Iowa\" или сокращенное название штата, напр. \"IL\".\\\n",
    "Также есть странны со старыми названиями, например \"Armenian SSR\", \"Soviet Union\".\\\n",
    "Есть опечатки в данных, например \"Floirda\"\\\n",
    "Исправим эти данные"
   ]
  },
  {
   "cell_type": "code",
   "execution_count": 33,
   "metadata": {
    "id": "cbWYsna1lM9_"
   },
   "outputs": [],
   "source": [
    "countries_usa = {np.nan, 'United States', 'IL', 'Los Angeles', 'Califorina',\n",
    "                 'Saint Louis', 'Floirda', 'Alaska', 'Alabama', 'Arkansas',\n",
    "                 'American Samoa', 'Arizona', 'California', 'Colorado',\n",
    "                 'Connecticut', 'District ', 'of Columbia', 'Delaware',\n",
    "                 'Florida', 'Georgia', 'Guam', 'Hawaii', 'Iowa', 'Idaho',\n",
    "                 'Illinois', 'Indiana', 'Kansas', 'Kentucky', 'Louisiana',\n",
    "                 'Massachusetts', 'Maryland', 'Maine', 'Michigan', 'Minnesota',\n",
    "                 'Missouri', 'Mississippi', 'Montana', 'North Carolina',\n",
    "                 'North Dakota', 'Nebraska', 'New Hampshire', 'New Jersey',\n",
    "                 'New Mexico', 'Nevada', 'New York', 'Ohio', 'Oklahoma',\n",
    "                 'Oregon', 'Pennsylvania', 'Puerto Rico', 'Rhode Island',\n",
    "                 'South Carolina', 'South Dakota', 'Tennessee', 'Texas',\n",
    "                 'Utah', 'Virginia', 'Virgin Islands', 'Vermont', 'Washington',\n",
    "                 'Wisconsin', 'West Virginia', 'Wyoming'}\n",
    "countries_russia = {'Soviet Union', 'Rostov-On-Don'}\n",
    "countries_congo = {'Democratic Republic of Congo', 'Republic of Congo', 'Democratic Republic Of The Congo'}\n",
    "countries_uk = {'England', 'Scotland', 'Wales', 'Northern Ireland'}\n",
    "\n",
    "countries_dict = {country: 'USA' for country in countries_usa}\n",
    "countries_dict = {**countries_dict, **{country: 'Russia' for country in countries_russia}}\n",
    "countries_dict = {**countries_dict, **{country: 'Congo' for country in countries_congo}}\n",
    "countries_dict = {**countries_dict, **{country: 'United Kingdom' for country in countries_uk}}\n",
    "countries_dict['Espirito Santo Brazil'] = 'Brazil'\n",
    "countries_dict['Taiwain'] = 'Taiwan'\n",
    "countries_dict['Bosnia'] = 'Bosnia Herzegovina'\n",
    "countries_dict['Armenian SSR'] = 'Armenia'\n",
    "countries_dict['Ukrainian SSR'] = 'Ukraine'\n",
    "countries_dict['México'] = 'Mexico'\n",
    "countries_dict['Holland'] = 'Netherlands'"
   ]
  },
  {
   "cell_type": "code",
   "execution_count": 34,
   "metadata": {
    "id": "hsb9zSQLl-sF"
   },
   "outputs": [],
   "source": [
    "fighters_df['country'] = fighters_df['country'].replace(countries_dict)"
   ]
  },
  {
   "cell_type": "markdown",
   "metadata": {
    "id": "McUQ29P2pT2C"
   },
   "source": [
    "Рассмотрим рост и размах рук. Везде где пропущен рост пропущен и размах рук, заполнять рост размахом рук не имеет смысла. Заполним рост средним, т.к. там меньше пропусков и удалим размах рук, т.к. признаки коллинеарны, но сначала избавимся от выбросов посчитав Z-score для каждого значения"
   ]
  },
  {
   "cell_type": "code",
   "execution_count": 35,
   "metadata": {
    "colab": {
     "base_uri": "https://localhost:8080/",
     "height": 269
    },
    "id": "cQLhqy-C4bOZ",
    "outputId": "946cef21-6774-4ac5-e7d5-2f60546c81ac"
   },
   "outputs": [
    {
     "data": {
      "text/html": [
       "<div>\n",
       "<style scoped>\n",
       "    .dataframe tbody tr th:only-of-type {\n",
       "        vertical-align: middle;\n",
       "    }\n",
       "\n",
       "    .dataframe tbody tr th {\n",
       "        vertical-align: top;\n",
       "    }\n",
       "\n",
       "    .dataframe thead th {\n",
       "        text-align: right;\n",
       "    }\n",
       "</style>\n",
       "<table border=\"1\" class=\"dataframe\">\n",
       "  <thead>\n",
       "    <tr style=\"text-align: right;\">\n",
       "      <th></th>\n",
       "      <th>name</th>\n",
       "      <th>dateOfBirth</th>\n",
       "      <th>country</th>\n",
       "      <th>city</th>\n",
       "      <th>timezone</th>\n",
       "      <th>height</th>\n",
       "      <th>armSpan</th>\n",
       "      <th>weight</th>\n",
       "      <th>weightCategory.id</th>\n",
       "    </tr>\n",
       "    <tr>\n",
       "      <th>id</th>\n",
       "      <th></th>\n",
       "      <th></th>\n",
       "      <th></th>\n",
       "      <th></th>\n",
       "      <th></th>\n",
       "      <th></th>\n",
       "      <th></th>\n",
       "      <th></th>\n",
       "      <th></th>\n",
       "    </tr>\n",
       "  </thead>\n",
       "  <tbody>\n",
       "    <tr>\n",
       "      <th>536</th>\n",
       "      <td>Stefan Struve</td>\n",
       "      <td>1988-02-18</td>\n",
       "      <td>Netherlands</td>\n",
       "      <td>Beverwijk</td>\n",
       "      <td>Europe/Amsterdam</td>\n",
       "      <td>210.82</td>\n",
       "      <td>213.36</td>\n",
       "      <td>120.20</td>\n",
       "      <td>9</td>\n",
       "    </tr>\n",
       "    <tr>\n",
       "      <th>2163</th>\n",
       "      <td>Hong Man Choi</td>\n",
       "      <td>1980-10-30</td>\n",
       "      <td>South Korea</td>\n",
       "      <td>Jeju</td>\n",
       "      <td>Asia/Seoul</td>\n",
       "      <td>218.44</td>\n",
       "      <td>NaN</td>\n",
       "      <td>149.69</td>\n",
       "      <td>14</td>\n",
       "    </tr>\n",
       "    <tr>\n",
       "      <th>2553</th>\n",
       "      <td>Nathan Jones</td>\n",
       "      <td>1970-08-21</td>\n",
       "      <td>United Kingdom</td>\n",
       "      <td>NaN</td>\n",
       "      <td>NaN</td>\n",
       "      <td>210.82</td>\n",
       "      <td>NaN</td>\n",
       "      <td>156.49</td>\n",
       "      <td>14</td>\n",
       "    </tr>\n",
       "    <tr>\n",
       "      <th>2955</th>\n",
       "      <td>Cory Peterson</td>\n",
       "      <td>1970-01-01</td>\n",
       "      <td>USA</td>\n",
       "      <td>NaN</td>\n",
       "      <td>NaN</td>\n",
       "      <td>210.82</td>\n",
       "      <td>NaN</td>\n",
       "      <td>181.44</td>\n",
       "      <td>14</td>\n",
       "    </tr>\n",
       "    <tr>\n",
       "      <th>3141</th>\n",
       "      <td>Paulo Cesar Silva</td>\n",
       "      <td>1963-07-21</td>\n",
       "      <td>USA</td>\n",
       "      <td>NaN</td>\n",
       "      <td>NaN</td>\n",
       "      <td>226.06</td>\n",
       "      <td>NaN</td>\n",
       "      <td>174.63</td>\n",
       "      <td>14</td>\n",
       "    </tr>\n",
       "    <tr>\n",
       "      <th>3414</th>\n",
       "      <td>Joe Solecki</td>\n",
       "      <td>NaN</td>\n",
       "      <td>USA</td>\n",
       "      <td>NaN</td>\n",
       "      <td>NaN</td>\n",
       "      <td>445.26</td>\n",
       "      <td>458.47</td>\n",
       "      <td>NaN</td>\n",
       "      <td>14</td>\n",
       "    </tr>\n",
       "  </tbody>\n",
       "</table>\n",
       "</div>"
      ],
      "text/plain": [
       "                   name dateOfBirth         country       city  \\\n",
       "id                                                               \n",
       "536       Stefan Struve  1988-02-18     Netherlands  Beverwijk   \n",
       "2163      Hong Man Choi  1980-10-30     South Korea       Jeju   \n",
       "2553       Nathan Jones  1970-08-21  United Kingdom        NaN   \n",
       "2955      Cory Peterson  1970-01-01             USA        NaN   \n",
       "3141  Paulo Cesar Silva  1963-07-21             USA        NaN   \n",
       "3414        Joe Solecki         NaN             USA        NaN   \n",
       "\n",
       "              timezone  height  armSpan  weight  weightCategory.id  \n",
       "id                                                                  \n",
       "536   Europe/Amsterdam  210.82   213.36  120.20                  9  \n",
       "2163        Asia/Seoul  218.44      NaN  149.69                 14  \n",
       "2553               NaN  210.82      NaN  156.49                 14  \n",
       "2955               NaN  210.82      NaN  181.44                 14  \n",
       "3141               NaN  226.06      NaN  174.63                 14  \n",
       "3414               NaN  445.26   458.47     NaN                 14  "
      ]
     },
     "execution_count": 35,
     "metadata": {},
     "output_type": "execute_result"
    }
   ],
   "source": [
    "zscore_height = stats.zscore(fighters_df['height'], nan_policy='omit')\n",
    "zscore_height = np.abs(zscore_height)\n",
    "fighters_df[zscore_height > 3]"
   ]
  },
  {
   "cell_type": "markdown",
   "metadata": {
    "id": "QRdr-YeV6I5u"
   },
   "source": [
    "Видим 2 выброса - заменим эти данные на настоящий рост бойцов"
   ]
  },
  {
   "cell_type": "code",
   "execution_count": 36,
   "metadata": {
    "id": "eMTT_L146E9h"
   },
   "outputs": [],
   "source": [
    "fighters_df.loc[3141, 'height'] = 218.0\n",
    "fighters_df.loc[3414, 'height'] = 175.26"
   ]
  },
  {
   "cell_type": "markdown",
   "metadata": {
    "id": "Sj83El0k6eof"
   },
   "source": [
    "Теперь можно заполнить пропуски"
   ]
  },
  {
   "cell_type": "code",
   "execution_count": 37,
   "metadata": {
    "id": "hl-IHb_p6bVu"
   },
   "outputs": [],
   "source": [
    "fighters_df = fighters_df.drop('armSpan', axis=1)\n",
    "\n",
    "mean_height = fighters_df['height'].mean()\n",
    "fighters_df['height'] = fighters_df['height'].fillna(mean_height)"
   ]
  },
  {
   "cell_type": "markdown",
   "metadata": {
    "id": "Qg5D8xaJ7ECo"
   },
   "source": [
    "Теперь рассмотри дату рождения. Преобразуем ее в datetime и заполним пропуски медианой года рождения"
   ]
  },
  {
   "cell_type": "code",
   "execution_count": 38,
   "metadata": {
    "id": "yNzDJZo76E68"
   },
   "outputs": [],
   "source": [
    "fighters_df['dateOfBirth'] = pd.to_datetime(fighters_df['dateOfBirth'])"
   ]
  },
  {
   "cell_type": "code",
   "execution_count": 39,
   "metadata": {
    "id": "uFFEtKdk6E4U"
   },
   "outputs": [],
   "source": [
    "median_dob = fighters_df['dateOfBirth'].dt.year.median()\n",
    "median_dob = int(median_dob)\n",
    "median_dob = datetime(year=1982, month=1, day=1)\n",
    "\n",
    "fighters_df['dateOfBirth'] = fighters_df['dateOfBirth'].fillna(median_dob)"
   ]
  },
  {
   "cell_type": "markdown",
   "metadata": {
    "id": "AO0LoFfm87ET"
   },
   "source": [
    "Удалим признак city, т.к. он заполнен только у 37% строк"
   ]
  },
  {
   "cell_type": "code",
   "execution_count": 40,
   "metadata": {
    "id": "w2-GQOzA8ecT"
   },
   "outputs": [],
   "source": [
    "fighters_df = fighters_df.drop('city', axis=1)"
   ]
  },
  {
   "cell_type": "markdown",
   "metadata": {
    "id": "ynaUoVaL9Nhf"
   },
   "source": [
    "Заполним пропуски признака timezone временной зоной страны"
   ]
  },
  {
   "cell_type": "code",
   "execution_count": 41,
   "metadata": {
    "id": "_TgC4AO6-4_w"
   },
   "outputs": [],
   "source": [
    "timezones = {'USA': 'America/New_York',\n",
    "'United Kingdom': 'Europe/London',\n",
    "'Congo': 'Africa/Brazzaville',\n",
    "'Bosnia Herzegovina': 'Europe/Paris',\n",
    "'Netherlands': 'Europe/Amsterdam',\n",
    "'Brazil': 'America/Sao_Paulo',\n",
    "'Armenia': 'Asia/Yerevan',\n",
    "'Taiwan': 'Asia/Taipei',\n",
    "'Russia': 'Europe/Moscow',\n",
    "'Ukraine': 'Europe/Kiev',\n",
    "'Western Samoa': 'Asia/Riyadh'}"
   ]
  },
  {
   "cell_type": "code",
   "execution_count": 42,
   "metadata": {
    "id": "DulIvu0b9LLB"
   },
   "outputs": [],
   "source": [
    "mask = fighters_df['timezone'].isna()\n",
    "fighters_df.loc[mask, 'timezone'] = fighters_df[mask]['country'].apply(lambda x:timezones[x])"
   ]
  },
  {
   "cell_type": "markdown",
   "metadata": {
    "id": "9HPscEMXBZyY"
   },
   "source": [
    "Рассмотрим вес, сначала изучим выбросы"
   ]
  },
  {
   "cell_type": "code",
   "execution_count": 43,
   "metadata": {
    "colab": {
     "base_uri": "https://localhost:8080/",
     "height": 363
    },
    "id": "apFyblRfCEvH",
    "outputId": "f820fa2a-44a5-4cc7-8574-889b41bc0f01"
   },
   "outputs": [
    {
     "data": {
      "text/html": [
       "<div>\n",
       "<style scoped>\n",
       "    .dataframe tbody tr th:only-of-type {\n",
       "        vertical-align: middle;\n",
       "    }\n",
       "\n",
       "    .dataframe tbody tr th {\n",
       "        vertical-align: top;\n",
       "    }\n",
       "\n",
       "    .dataframe thead th {\n",
       "        text-align: right;\n",
       "    }\n",
       "</style>\n",
       "<table border=\"1\" class=\"dataframe\">\n",
       "  <thead>\n",
       "    <tr style=\"text-align: right;\">\n",
       "      <th></th>\n",
       "      <th>name</th>\n",
       "      <th>dateOfBirth</th>\n",
       "      <th>country</th>\n",
       "      <th>timezone</th>\n",
       "      <th>height</th>\n",
       "      <th>weight</th>\n",
       "      <th>weightCategory.id</th>\n",
       "    </tr>\n",
       "    <tr>\n",
       "      <th>id</th>\n",
       "      <th></th>\n",
       "      <th></th>\n",
       "      <th></th>\n",
       "      <th></th>\n",
       "      <th></th>\n",
       "      <th></th>\n",
       "      <th></th>\n",
       "    </tr>\n",
       "  </thead>\n",
       "  <tbody>\n",
       "    <tr>\n",
       "      <th>1876</th>\n",
       "      <td>Thomas Ramirez</td>\n",
       "      <td>1970-01-01</td>\n",
       "      <td>USA</td>\n",
       "      <td>America/Puerto_Rico</td>\n",
       "      <td>185.42</td>\n",
       "      <td>185.97</td>\n",
       "      <td>14</td>\n",
       "    </tr>\n",
       "    <tr>\n",
       "      <th>1893</th>\n",
       "      <td>John Matua</td>\n",
       "      <td>1970-01-01</td>\n",
       "      <td>USA</td>\n",
       "      <td>America/New_York</td>\n",
       "      <td>187.96</td>\n",
       "      <td>181.44</td>\n",
       "      <td>14</td>\n",
       "    </tr>\n",
       "    <tr>\n",
       "      <th>1909</th>\n",
       "      <td>Emmanuel Yarborough</td>\n",
       "      <td>1960-09-05</td>\n",
       "      <td>USA</td>\n",
       "      <td>America/New_York</td>\n",
       "      <td>203.20</td>\n",
       "      <td>349.27</td>\n",
       "      <td>14</td>\n",
       "    </tr>\n",
       "    <tr>\n",
       "      <th>1925</th>\n",
       "      <td>Teila Tuli</td>\n",
       "      <td>1969-06-14</td>\n",
       "      <td>USA</td>\n",
       "      <td>America/New_York</td>\n",
       "      <td>182.88</td>\n",
       "      <td>195.04</td>\n",
       "      <td>14</td>\n",
       "    </tr>\n",
       "    <tr>\n",
       "      <th>2607</th>\n",
       "      <td>Mitsuharu Kitao</td>\n",
       "      <td>1970-01-01</td>\n",
       "      <td>USA</td>\n",
       "      <td>America/New_York</td>\n",
       "      <td>200.66</td>\n",
       "      <td>176.90</td>\n",
       "      <td>14</td>\n",
       "    </tr>\n",
       "    <tr>\n",
       "      <th>2707</th>\n",
       "      <td>Alexandru Lungu</td>\n",
       "      <td>1974-09-03</td>\n",
       "      <td>Romania</td>\n",
       "      <td>Europe/Bucharest</td>\n",
       "      <td>182.88</td>\n",
       "      <td>174.63</td>\n",
       "      <td>14</td>\n",
       "    </tr>\n",
       "    <tr>\n",
       "      <th>2736</th>\n",
       "      <td>Wagner da Conceicao Martins</td>\n",
       "      <td>1978-05-19</td>\n",
       "      <td>USA</td>\n",
       "      <td>America/New_York</td>\n",
       "      <td>200.66</td>\n",
       "      <td>176.90</td>\n",
       "      <td>14</td>\n",
       "    </tr>\n",
       "    <tr>\n",
       "      <th>2955</th>\n",
       "      <td>Cory Peterson</td>\n",
       "      <td>1970-01-01</td>\n",
       "      <td>USA</td>\n",
       "      <td>America/New_York</td>\n",
       "      <td>210.82</td>\n",
       "      <td>181.44</td>\n",
       "      <td>14</td>\n",
       "    </tr>\n",
       "    <tr>\n",
       "      <th>3141</th>\n",
       "      <td>Paulo Cesar Silva</td>\n",
       "      <td>1963-07-21</td>\n",
       "      <td>USA</td>\n",
       "      <td>America/New_York</td>\n",
       "      <td>218.00</td>\n",
       "      <td>174.63</td>\n",
       "      <td>14</td>\n",
       "    </tr>\n",
       "  </tbody>\n",
       "</table>\n",
       "</div>"
      ],
      "text/plain": [
       "                             name dateOfBirth  country             timezone  \\\n",
       "id                                                                            \n",
       "1876               Thomas Ramirez  1970-01-01      USA  America/Puerto_Rico   \n",
       "1893                   John Matua  1970-01-01      USA     America/New_York   \n",
       "1909          Emmanuel Yarborough  1960-09-05      USA     America/New_York   \n",
       "1925                   Teila Tuli  1969-06-14      USA     America/New_York   \n",
       "2607              Mitsuharu Kitao  1970-01-01      USA     America/New_York   \n",
       "2707              Alexandru Lungu  1974-09-03  Romania     Europe/Bucharest   \n",
       "2736  Wagner da Conceicao Martins  1978-05-19      USA     America/New_York   \n",
       "2955                Cory Peterson  1970-01-01      USA     America/New_York   \n",
       "3141            Paulo Cesar Silva  1963-07-21      USA     America/New_York   \n",
       "\n",
       "      height  weight  weightCategory.id  \n",
       "id                                       \n",
       "1876  185.42  185.97                 14  \n",
       "1893  187.96  181.44                 14  \n",
       "1909  203.20  349.27                 14  \n",
       "1925  182.88  195.04                 14  \n",
       "2607  200.66  176.90                 14  \n",
       "2707  182.88  174.63                 14  \n",
       "2736  200.66  176.90                 14  \n",
       "2955  210.82  181.44                 14  \n",
       "3141  218.00  174.63                 14  "
      ]
     },
     "execution_count": 43,
     "metadata": {},
     "output_type": "execute_result"
    }
   ],
   "source": [
    "zscore_weight = stats.zscore(fighters_df['weight'], nan_policy='omit')\n",
    "zscore_weight = np.abs(zscore_weight)\n",
    "fighters_df[zscore_weight > 5]"
   ]
  },
  {
   "cell_type": "markdown",
   "metadata": {
    "id": "g1tSzx_TCZnu"
   },
   "source": [
    "Заменим вес выброса на реальный"
   ]
  },
  {
   "cell_type": "code",
   "execution_count": 44,
   "metadata": {
    "id": "H561e4OkCUHw"
   },
   "outputs": [],
   "source": [
    "fighters_df.loc[1909, 'weight'] = 270"
   ]
  },
  {
   "cell_type": "markdown",
   "metadata": {
    "id": "brNhrgboCjVG"
   },
   "source": [
    "Т.к. у нас везде есть признака весовой категории, заполним пропуски веса средним весом для каждой категории"
   ]
  },
  {
   "cell_type": "code",
   "execution_count": 45,
   "metadata": {
    "id": "cqCOU-TUBsrX"
   },
   "outputs": [],
   "source": [
    "avg_weight_in_category = fighters_df.groupby(by=\"weightCategory.id\").mean()['weight'].to_dict()\n",
    "\n",
    "mask = fighters_df['weight'].isna()\n",
    "fighters_df.loc[mask, 'weight'] = fighters_df[mask]['weightCategory.id'].apply(lambda x:avg_weight_in_category[x])"
   ]
  },
  {
   "cell_type": "markdown",
   "metadata": {
    "id": "M-EshoNnDE73"
   },
   "source": [
    "Данные о бойцах готовы!"
   ]
  },
  {
   "cell_type": "code",
   "execution_count": 46,
   "metadata": {
    "colab": {
     "base_uri": "https://localhost:8080/"
    },
    "id": "CxsJATKWDAPo",
    "outputId": "01b0e69a-76ca-4f77-f78f-c6899415f637"
   },
   "outputs": [
    {
     "name": "stdout",
     "output_type": "stream",
     "text": [
      "<class 'pandas.core.frame.DataFrame'>\n",
      "Int64Index: 3669 entries, 1 to 3677\n",
      "Data columns (total 7 columns):\n",
      " #   Column             Non-Null Count  Dtype         \n",
      "---  ------             --------------  -----         \n",
      " 0   name               3669 non-null   object        \n",
      " 1   dateOfBirth        3669 non-null   datetime64[ns]\n",
      " 2   country            3669 non-null   object        \n",
      " 3   timezone           3669 non-null   object        \n",
      " 4   height             3669 non-null   float64       \n",
      " 5   weight             3669 non-null   float64       \n",
      " 6   weightCategory.id  3669 non-null   int64         \n",
      "dtypes: datetime64[ns](1), float64(2), int64(1), object(3)\n",
      "memory usage: 389.3+ KB\n"
     ]
    }
   ],
   "source": [
    "fighters_df.info()"
   ]
  },
  {
   "cell_type": "markdown",
   "metadata": {
    "id": "DXNlIWiWq2u3"
   },
   "source": [
    "### Данные о боях"
   ]
  },
  {
   "cell_type": "code",
   "execution_count": 47,
   "metadata": {
    "id": "EVq3ZOvupO4c"
   },
   "outputs": [],
   "source": [
    "events_df = pd.read_csv(os.path.join(DATA_FOLDER, '0.events_raw.csv'), index_col='id')\n",
    "events_df['eventDate.date'] = pd.to_datetime(events_df['eventDate.date'])"
   ]
  },
  {
   "cell_type": "markdown",
   "metadata": {
    "id": "agCJtzAwoGBw"
   },
   "source": [
    "Удаляем лишние признаки"
   ]
  },
  {
   "cell_type": "code",
   "execution_count": 48,
   "metadata": {
    "id": "zhkCbALgmvaZ"
   },
   "outputs": [],
   "source": [
    "events_df = events_df.drop(['Unnamed: 0', 'link', 'name', 'eventDate.timezone' ,'eventDate.timezone_type', 'weightCategory.name'], axis=1)"
   ]
  },
  {
   "cell_type": "markdown",
   "metadata": {
    "id": "xeTVuj5JoPGS"
   },
   "source": [
    "Создадим бинарный признак победителя"
   ]
  },
  {
   "cell_type": "code",
   "execution_count": 49,
   "metadata": {
    "id": "XnGG_l-GoOyC"
   },
   "outputs": [],
   "source": [
    "events_df['winner'] = (events_df['winnerId'] == events_df['fighterId_1'])"
   ]
  },
  {
   "cell_type": "markdown",
   "metadata": {
    "id": "Jl2YwrFooirt"
   },
   "source": [
    "Убираем строки с незавершенными боями, боями где отсутствует winnerId, боями где winnerId не соответствует ни одному из участников"
   ]
  },
  {
   "cell_type": "code",
   "execution_count": 50,
   "metadata": {
    "id": "VnaKB7nUoktD"
   },
   "outputs": [],
   "source": [
    "mask = events_df['completed'] == True\n",
    "mask = mask & (~events_df['winnerId'].isna())\n",
    "mask = mask & ((events_df['winnerId'] == events_df['fighterId_1']) \\\n",
    "               | (events_df['winnerId'] == events_df['fighterId_2']))\n",
    "\n",
    "events_df = events_df[mask]\n",
    "events_df = events_df.drop(['winnerId', 'completed'], axis=1)"
   ]
  },
  {
   "cell_type": "markdown",
   "metadata": {
    "id": "Vcef7l_Wq52J"
   },
   "source": [
    "Заполним пропуски в колонках city и country"
   ]
  },
  {
   "cell_type": "code",
   "execution_count": 51,
   "metadata": {
    "colab": {
     "base_uri": "https://localhost:8080/",
     "height": 175
    },
    "id": "VmW12yXtr1uB",
    "outputId": "4deaf003-59ac-4487-de91-051aac0fdabc"
   },
   "outputs": [
    {
     "data": {
      "text/html": [
       "<div>\n",
       "<style scoped>\n",
       "    .dataframe tbody tr th:only-of-type {\n",
       "        vertical-align: middle;\n",
       "    }\n",
       "\n",
       "    .dataframe tbody tr th {\n",
       "        vertical-align: top;\n",
       "    }\n",
       "\n",
       "    .dataframe thead th {\n",
       "        text-align: right;\n",
       "    }\n",
       "</style>\n",
       "<table border=\"1\" class=\"dataframe\">\n",
       "  <thead>\n",
       "    <tr style=\"text-align: right;\">\n",
       "      <th></th>\n",
       "      <th>avgOdds</th>\n",
       "      <th>city</th>\n",
       "      <th>country</th>\n",
       "      <th>duration</th>\n",
       "      <th>eventDate.date</th>\n",
       "      <th>fighterId_1</th>\n",
       "      <th>fighterId_2</th>\n",
       "      <th>fighters</th>\n",
       "      <th>rounds</th>\n",
       "      <th>timezone</th>\n",
       "      <th>weightCategory.id</th>\n",
       "      <th>winMethods</th>\n",
       "      <th>winner</th>\n",
       "    </tr>\n",
       "    <tr>\n",
       "      <th>id</th>\n",
       "      <th></th>\n",
       "      <th></th>\n",
       "      <th></th>\n",
       "      <th></th>\n",
       "      <th></th>\n",
       "      <th></th>\n",
       "      <th></th>\n",
       "      <th></th>\n",
       "      <th></th>\n",
       "      <th></th>\n",
       "      <th></th>\n",
       "      <th></th>\n",
       "      <th></th>\n",
       "    </tr>\n",
       "  </thead>\n",
       "  <tbody>\n",
       "    <tr>\n",
       "      <th>5566</th>\n",
       "      <td>[]</td>\n",
       "      <td>NaN</td>\n",
       "      <td>Brazil</td>\n",
       "      <td>325.0</td>\n",
       "      <td>1997-06-15</td>\n",
       "      <td>848</td>\n",
       "      <td>2240</td>\n",
       "      <td>[{'fighterId': 848, 'fightStats': {'hitsTotal'...</td>\n",
       "      <td>1.0</td>\n",
       "      <td>America/Sao_Paulo</td>\n",
       "      <td>7</td>\n",
       "      <td>['KO']</td>\n",
       "      <td>True</td>\n",
       "    </tr>\n",
       "    <tr>\n",
       "      <th>6211</th>\n",
       "      <td>[]</td>\n",
       "      <td>NaN</td>\n",
       "      <td>Brazil</td>\n",
       "      <td>30.0</td>\n",
       "      <td>1997-06-15</td>\n",
       "      <td>848</td>\n",
       "      <td>3162</td>\n",
       "      <td>[{'fighterId': 848, 'fightStats': {'hitsTotal'...</td>\n",
       "      <td>1.0</td>\n",
       "      <td>America/Sao_Paulo</td>\n",
       "      <td>7</td>\n",
       "      <td>['SUB']</td>\n",
       "      <td>True</td>\n",
       "    </tr>\n",
       "    <tr>\n",
       "      <th>5766</th>\n",
       "      <td>[]</td>\n",
       "      <td>NaN</td>\n",
       "      <td>Brazil</td>\n",
       "      <td>74.0</td>\n",
       "      <td>2005-12-03</td>\n",
       "      <td>1934</td>\n",
       "      <td>2436</td>\n",
       "      <td>[{'fighterId': 1934, 'fightStats': {'hitsTotal...</td>\n",
       "      <td>2.0</td>\n",
       "      <td>America/Sao_Paulo</td>\n",
       "      <td>8</td>\n",
       "      <td>['KO']</td>\n",
       "      <td>True</td>\n",
       "    </tr>\n",
       "  </tbody>\n",
       "</table>\n",
       "</div>"
      ],
      "text/plain": [
       "     avgOdds city country  duration eventDate.date  fighterId_1  fighterId_2  \\\n",
       "id                                                                             \n",
       "5566      []  NaN  Brazil     325.0     1997-06-15          848         2240   \n",
       "6211      []  NaN  Brazil      30.0     1997-06-15          848         3162   \n",
       "5766      []  NaN  Brazil      74.0     2005-12-03         1934         2436   \n",
       "\n",
       "                                               fighters  rounds  \\\n",
       "id                                                                \n",
       "5566  [{'fighterId': 848, 'fightStats': {'hitsTotal'...     1.0   \n",
       "6211  [{'fighterId': 848, 'fightStats': {'hitsTotal'...     1.0   \n",
       "5766  [{'fighterId': 1934, 'fightStats': {'hitsTotal...     2.0   \n",
       "\n",
       "               timezone  weightCategory.id winMethods  winner  \n",
       "id                                                             \n",
       "5566  America/Sao_Paulo                  7     ['KO']    True  \n",
       "6211  America/Sao_Paulo                  7    ['SUB']    True  \n",
       "5766  America/Sao_Paulo                  8     ['KO']    True  "
      ]
     },
     "execution_count": 51,
     "metadata": {},
     "output_type": "execute_result"
    }
   ],
   "source": [
    "mask = (~events_df['country'].isna()) & (events_df['city'].isna())\n",
    "events_df[mask]"
   ]
  },
  {
   "cell_type": "markdown",
   "metadata": {
    "id": "Ri-JWsmar2Xh"
   },
   "source": [
    "Есть 3 записи в которых есть country но нету city, заполним их вручную"
   ]
  },
  {
   "cell_type": "code",
   "execution_count": 52,
   "metadata": {
    "id": "Drjt_8ZEro9R"
   },
   "outputs": [],
   "source": [
    "events_df.loc[mask, 'city'] = 'Sao Paulo'"
   ]
  },
  {
   "cell_type": "markdown",
   "metadata": {
    "id": "nrVBIWq0sPf8"
   },
   "source": [
    "Заполним остальные города модой, и страной которая соответствует этому городу"
   ]
  },
  {
   "cell_type": "code",
   "execution_count": 53,
   "metadata": {
    "id": "s1xgM5KGsOMd"
   },
   "outputs": [],
   "source": [
    "city = events_df['city'].mode()\n",
    "country = 'USA'\n",
    "\n",
    "mask = (events_df['country'].isna()) & (events_df['city'].isna())\n",
    "events_df.loc[mask, ('country', 'city')] = np.array([country, city], dtype='object')"
   ]
  },
  {
   "cell_type": "markdown",
   "metadata": {
    "id": "mFmQd54lual_"
   },
   "source": [
    "В некоторых записях содержатся выбросы которые не соответствуют городу, например \"UFC 253\". В этих же записях значение страны указано \"---\". Заполним эти выбросы"
   ]
  },
  {
   "cell_type": "code",
   "execution_count": 54,
   "metadata": {
    "id": "OgvL2GVxu14c"
   },
   "outputs": [],
   "source": [
    "mask = events_df['city'].apply(lambda x:x.split(' ')[0]) == 'UFC'\n",
    "events_df.loc[mask, ('country', 'city')] = np.array([country, city], dtype='object')"
   ]
  },
  {
   "cell_type": "markdown",
   "metadata": {
    "id": "sIuNAqAyu8M1"
   },
   "source": [
    "Заполним пропуски признаков duration, rounds средними значениями"
   ]
  },
  {
   "cell_type": "code",
   "execution_count": 55,
   "metadata": {
    "id": "e84Qay0hthCg"
   },
   "outputs": [],
   "source": [
    "duration = events_df['duration'].mean()\n",
    "rounds = events_df['rounds'].mean()\n",
    "\n",
    "mask = events_df['duration'].isna()\n",
    "events_df.loc[mask, 'duration'] = duration\n",
    "\n",
    "mask = events_df['rounds'].isna()\n",
    "events_df.loc[mask, 'rounds'] = rounds"
   ]
  },
  {
   "cell_type": "markdown",
   "metadata": {
    "id": "atAS1-UivaPp"
   },
   "source": [
    "Заполним пропуски признака timezone"
   ]
  },
  {
   "cell_type": "code",
   "execution_count": 56,
   "metadata": {
    "id": "tFoV8VKMvd9b"
   },
   "outputs": [],
   "source": [
    "timezones = {'Las Vegas': 'America/Los_Angeles'}\n",
    "\n",
    "mask = events_df['timezone'].isna()\n",
    "events_df.loc[mask, 'timezone'] = events_df[mask]['city'].apply(lambda x:timezones[x])"
   ]
  },
  {
   "cell_type": "markdown",
   "metadata": {
    "id": "3TtcL9Eqwajz"
   },
   "source": [
    "Извлечем вложенные признаки из признака avgOdds"
   ]
  },
  {
   "cell_type": "code",
   "execution_count": 57,
   "metadata": {
    "id": "5PzGcNeH37Cy"
   },
   "outputs": [],
   "source": [
    "events_df[[\"f1_odds\", \"f2_odds\"]] = events_df[[\"avgOdds\", \"fighterId_1\",\n",
    "                                                \"fighterId_2\"]]\\\n",
    "                                                .apply(lambda row: parse_odds(row), axis=1)"
   ]
  },
  {
   "cell_type": "markdown",
   "metadata": {
    "id": "pKVoIMY_4JQK"
   },
   "source": [
    "В старых записях отсутствуют коэффициенты букмекера, заполним их значением по умолчанию"
   ]
  },
  {
   "cell_type": "code",
   "execution_count": 58,
   "metadata": {
    "id": "unBsf8uO3vSy"
   },
   "outputs": [],
   "source": [
    "events_df.loc[:, ('f1_odds', 'f2_odds')] = events_df[['f1_odds', 'f2_odds']].fillna(1)"
   ]
  },
  {
   "cell_type": "markdown",
   "metadata": {
    "id": "e50vr1m2y5eA"
   },
   "source": [
    "Извлечем вложенные признаки из признака fighters"
   ]
  },
  {
   "cell_type": "code",
   "execution_count": 59,
   "metadata": {
    "id": "_8KyjYx8y1bx"
   },
   "outputs": [],
   "source": [
    "fighter_attack_stats_cols, fighter_def_stats_cols = get_fighter_stats_cols()\n",
    "\n",
    "events_df[fighter_attack_stats_cols] = events_df[\n",
    "        [\"fighters\", \"fighterId_1\", \"fighterId_2\"]\n",
    "    ].apply(lambda row: parse_fight_data_attack(row), axis=1)\n",
    "\n",
    "events_df[fighter_def_stats_cols] = events_df[\n",
    "        [\"fighters\", \"fighterId_1\", \"fighterId_2\"]\n",
    "    ].apply(lambda row: parse_fight_data_defence(row), axis=1)"
   ]
  },
  {
   "cell_type": "code",
   "execution_count": 60,
   "metadata": {
    "id": "Flfy8Abxz5ER"
   },
   "outputs": [],
   "source": [
    "events_df = events_df.drop(['avgOdds', 'fighters'], axis=1)"
   ]
  },
  {
   "cell_type": "markdown",
   "metadata": {
    "id": "hAW3XYgJ2o9O"
   },
   "source": [
    "В небольшом количестве записей отсутствует полная статистика боев - исключим их из данных"
   ]
  },
  {
   "cell_type": "code",
   "execution_count": 61,
   "metadata": {
    "id": "QJ4KQsKq2jnj"
   },
   "outputs": [],
   "source": [
    "mask = ~(events_df['f1_protectionPassage'].isna() | events_df['f1_def_hitsBodyTotal'].isna())\n",
    "events_df = events_df[mask]"
   ]
  },
  {
   "cell_type": "markdown",
   "metadata": {
    "id": "27TrYtlj5Egy"
   },
   "source": [
    "Все пропуски заполнены, можно создавать новые признаки"
   ]
  },
  {
   "cell_type": "markdown",
   "metadata": {
    "id": "s3WAa8eI5Z23"
   },
   "source": [
    "### Объединяем, создаем признаки"
   ]
  },
  {
   "cell_type": "code",
   "execution_count": 62,
   "metadata": {
    "id": "S8eArjD4EnCv"
   },
   "outputs": [],
   "source": [
    "events_df = events_df.merge(fighters_df.add_prefix('f1_'), how='left',\n",
    "                            left_on='fighterId_1', right_index=True)\n",
    "events_df = events_df.merge(fighters_df.add_prefix('f2_'), how='left',\n",
    "                            left_on='fighterId_2', right_index=True)"
   ]
  },
  {
   "cell_type": "markdown",
   "metadata": {
    "id": "TdjCgac6JC0_"
   },
   "source": [
    "Создадим признаки возраста на момент боя"
   ]
  },
  {
   "cell_type": "code",
   "execution_count": 63,
   "metadata": {
    "id": "2N4_yEJQHR7t"
   },
   "outputs": [],
   "source": [
    "events_df['f1_age'] = ((events_df['eventDate.date'] \\\n",
    "  - events_df['f1_dateOfBirth']) \\\n",
    " / np.timedelta64(1, 'Y')).astype(int)\n",
    "\n",
    "events_df['f2_age'] = ((events_df['eventDate.date'] \\\n",
    "  - events_df['f2_dateOfBirth']) \\\n",
    " / np.timedelta64(1, 'Y')).astype(int)"
   ]
  },
  {
   "cell_type": "markdown",
   "metadata": {
    "id": "a194fFsZJM93"
   },
   "source": [
    "Создадим признаки isHomeTimezone, isHomeCountry"
   ]
  },
  {
   "cell_type": "code",
   "execution_count": 64,
   "metadata": {
    "id": "xjwEtenD4bUr"
   },
   "outputs": [],
   "source": [
    "events_df['f1_isHomeTimezone'] = (events_df['f1_timezone'] == events_df['timezone']).apply(int)\n",
    "events_df['f2_isHomeTimezone'] = (events_df['f2_timezone'] == events_df['timezone']).apply(int)\n",
    "\n",
    "events_df['f1_isHomeCountry'] = (events_df['f1_country'] == events_df['country']).apply(int)\n",
    "events_df['f2_isHomeCountry'] = (events_df['f2_country'] == events_df['country']).apply(int)"
   ]
  },
  {
   "cell_type": "markdown",
   "metadata": {
    "id": "Z63GXTjj6GNJ"
   },
   "source": [
    "Считаем накопительную статистику"
   ]
  },
  {
   "cell_type": "code",
   "execution_count": 65,
   "metadata": {
    "id": "uacjkGS0-Gxk"
   },
   "outputs": [],
   "source": [
    "events_df['f1_winner'] = events_df['winner'].apply(int)\n",
    "events_df['f2_winner'] = ~events_df['winner'].apply(int)"
   ]
  },
  {
   "cell_type": "markdown",
   "metadata": {
    "id": "_nsdTffw86B1"
   },
   "source": [
    "Используем one hot encoding для признаков метода победы"
   ]
  },
  {
   "cell_type": "code",
   "execution_count": 66,
   "metadata": {
    "id": "nO_lCB7b_aBD"
   },
   "outputs": [],
   "source": [
    "events_df = pd.get_dummies(events_df, columns = ['winMethods'], dtype=int)\n",
    "\n",
    "events_df['f1_winMethods_DEC'] = np.where(events_df['f1_winner'], events_df['winMethods_[\\'DEC\\']'], 0)\n",
    "events_df['f1_winMethods_DQ'] = np.where(events_df['f1_winner'], events_df['winMethods_[\\'DQ\\']'], 0)\n",
    "events_df['f1_winMethods_KO'] = np.where(events_df['f1_winner'], events_df['winMethods_[\\'KO\\']'], 0)\n",
    "events_df['f1_winMethods_SUB'] = np.where(events_df['f1_winner'], events_df['winMethods_[\\'SUB\\']'], 0)\n",
    "\n",
    "events_df['f2_winMethods_DEC'] = np.where(events_df['f2_winner'], events_df['winMethods_[\\'DEC\\']'], 0)\n",
    "events_df['f2_winMethods_DQ'] = np.where(events_df['f2_winner'], events_df['winMethods_[\\'DQ\\']'], 0)\n",
    "events_df['f2_winMethods_KO'] = np.where(events_df['f2_winner'], events_df['winMethods_[\\'KO\\']'], 0)\n",
    "events_df['f2_winMethods_SUB'] = np.where(events_df['f2_winner'], events_df['winMethods_[\\'SUB\\']'], 0)\n",
    "\n",
    "events_df = events_df.drop([\"winMethods_['DEC']\", \"winMethods_['DQ']\",\n",
    "                            \"winMethods_['KO']\", \"winMethods_['SUB']\",\n",
    "                            'winMethods_[]'], axis=1)\n",
    "\n",
    "win_methods = ['winMethods_DEC', 'winMethods_DQ', 'winMethods_KO', 'winMethods_SUB']"
   ]
  },
  {
   "cell_type": "markdown",
   "metadata": {
    "id": "HrFh_LMr9EUT"
   },
   "source": [
    "Сохраним названия колонок для аггрегации"
   ]
  },
  {
   "cell_type": "code",
   "execution_count": 67,
   "metadata": {
    "id": "PGGIL5lm9ung"
   },
   "outputs": [],
   "source": [
    "agg_columns = fighter_stats_keys \\\n",
    "            + [f'def_{i}' for i in fighter_stats_keys] \\\n",
    "            + ['winner'] \\\n",
    "            + win_methods\n",
    "\n",
    "f1_agg_columns = [f'f1_{i}' for i in agg_columns]\n",
    "f2_agg_columns = [f'f2_{i}' for i in agg_columns]"
   ]
  },
  {
   "cell_type": "markdown",
   "metadata": {
    "id": "IYDdf8Gz9HR_"
   },
   "source": [
    "Будем аггрегировать общее время проведенное в боях для каждого бойца"
   ]
  },
  {
   "cell_type": "code",
   "execution_count": 68,
   "metadata": {
    "id": "-GTRxII2SGJu"
   },
   "outputs": [],
   "source": [
    "events_df['f1_duration'] = 0\n",
    "events_df['f2_duration'] = 0"
   ]
  },
  {
   "cell_type": "markdown",
   "metadata": {
    "id": "kdEudmQl9LPM"
   },
   "source": [
    "Соберем данные по каждому бойцу из таблицы с боями"
   ]
  },
  {
   "cell_type": "code",
   "execution_count": 69,
   "metadata": {
    "colab": {
     "base_uri": "https://localhost:8080/",
     "height": 300
    },
    "id": "3MRxPGHFBFk3",
    "outputId": "1e7b9d83-661a-4391-de78-075d0d92c063"
   },
   "outputs": [
    {
     "data": {
      "text/html": [
       "<div>\n",
       "<style scoped>\n",
       "    .dataframe tbody tr th:only-of-type {\n",
       "        vertical-align: middle;\n",
       "    }\n",
       "\n",
       "    .dataframe tbody tr th {\n",
       "        vertical-align: top;\n",
       "    }\n",
       "\n",
       "    .dataframe thead th {\n",
       "        text-align: right;\n",
       "    }\n",
       "</style>\n",
       "<table border=\"1\" class=\"dataframe\">\n",
       "  <thead>\n",
       "    <tr style=\"text-align: right;\">\n",
       "      <th></th>\n",
       "      <th>eventDate.date</th>\n",
       "      <th>fighterId</th>\n",
       "      <th>duration</th>\n",
       "      <th>hitsTotal</th>\n",
       "      <th>hitsSuccessful</th>\n",
       "      <th>takedownTotal</th>\n",
       "      <th>takedownSuccessful</th>\n",
       "      <th>submissionAttempts</th>\n",
       "      <th>takeovers</th>\n",
       "      <th>accentedHitsTotal</th>\n",
       "      <th>...</th>\n",
       "      <th>def_accentedHitsPositionDistanceSuccessful</th>\n",
       "      <th>def_accentedHitsPositionClinchTotal</th>\n",
       "      <th>def_accentedHitsPositionClinchSuccessful</th>\n",
       "      <th>def_accentedHitsPositionParterTotal</th>\n",
       "      <th>def_accentedHitsPositionParterSuccessful</th>\n",
       "      <th>winner</th>\n",
       "      <th>winMethods_DEC</th>\n",
       "      <th>winMethods_DQ</th>\n",
       "      <th>winMethods_KO</th>\n",
       "      <th>winMethods_SUB</th>\n",
       "    </tr>\n",
       "  </thead>\n",
       "  <tbody>\n",
       "    <tr>\n",
       "      <th>9236</th>\n",
       "      <td>2011-01-29</td>\n",
       "      <td>3312</td>\n",
       "      <td>193.0</td>\n",
       "      <td>66.0</td>\n",
       "      <td>47.0</td>\n",
       "      <td>1.0</td>\n",
       "      <td>1.0</td>\n",
       "      <td>0.0</td>\n",
       "      <td>0.0</td>\n",
       "      <td>26.0</td>\n",
       "      <td>...</td>\n",
       "      <td>2.0</td>\n",
       "      <td>0.0</td>\n",
       "      <td>0.0</td>\n",
       "      <td>0.0</td>\n",
       "      <td>0.0</td>\n",
       "      <td>-1</td>\n",
       "      <td>0</td>\n",
       "      <td>0</td>\n",
       "      <td>1</td>\n",
       "      <td>0</td>\n",
       "    </tr>\n",
       "    <tr>\n",
       "      <th>11528</th>\n",
       "      <td>2016-07-24</td>\n",
       "      <td>876</td>\n",
       "      <td>300.0</td>\n",
       "      <td>30.0</td>\n",
       "      <td>8.0</td>\n",
       "      <td>0.0</td>\n",
       "      <td>0.0</td>\n",
       "      <td>0.0</td>\n",
       "      <td>0.0</td>\n",
       "      <td>30.0</td>\n",
       "      <td>...</td>\n",
       "      <td>36.0</td>\n",
       "      <td>3.0</td>\n",
       "      <td>1.0</td>\n",
       "      <td>0.0</td>\n",
       "      <td>0.0</td>\n",
       "      <td>-2</td>\n",
       "      <td>1</td>\n",
       "      <td>0</td>\n",
       "      <td>0</td>\n",
       "      <td>0</td>\n",
       "    </tr>\n",
       "    <tr>\n",
       "      <th>9549</th>\n",
       "      <td>2011-12-03</td>\n",
       "      <td>812</td>\n",
       "      <td>214.0</td>\n",
       "      <td>24.0</td>\n",
       "      <td>4.0</td>\n",
       "      <td>2.0</td>\n",
       "      <td>0.0</td>\n",
       "      <td>0.0</td>\n",
       "      <td>0.0</td>\n",
       "      <td>24.0</td>\n",
       "      <td>...</td>\n",
       "      <td>19.0</td>\n",
       "      <td>0.0</td>\n",
       "      <td>0.0</td>\n",
       "      <td>30.0</td>\n",
       "      <td>21.0</td>\n",
       "      <td>-2</td>\n",
       "      <td>0</td>\n",
       "      <td>0</td>\n",
       "      <td>1</td>\n",
       "      <td>0</td>\n",
       "    </tr>\n",
       "    <tr>\n",
       "      <th>11321</th>\n",
       "      <td>2016-02-06</td>\n",
       "      <td>721</td>\n",
       "      <td>137.0</td>\n",
       "      <td>3.0</td>\n",
       "      <td>1.0</td>\n",
       "      <td>1.0</td>\n",
       "      <td>0.0</td>\n",
       "      <td>0.0</td>\n",
       "      <td>0.0</td>\n",
       "      <td>3.0</td>\n",
       "      <td>...</td>\n",
       "      <td>1.0</td>\n",
       "      <td>0.0</td>\n",
       "      <td>0.0</td>\n",
       "      <td>26.0</td>\n",
       "      <td>13.0</td>\n",
       "      <td>-2</td>\n",
       "      <td>0</td>\n",
       "      <td>0</td>\n",
       "      <td>1</td>\n",
       "      <td>0</td>\n",
       "    </tr>\n",
       "    <tr>\n",
       "      <th>11179</th>\n",
       "      <td>2015-10-24</td>\n",
       "      <td>868</td>\n",
       "      <td>300.0</td>\n",
       "      <td>38.0</td>\n",
       "      <td>15.0</td>\n",
       "      <td>1.0</td>\n",
       "      <td>0.0</td>\n",
       "      <td>0.0</td>\n",
       "      <td>0.0</td>\n",
       "      <td>32.0</td>\n",
       "      <td>...</td>\n",
       "      <td>7.0</td>\n",
       "      <td>4.0</td>\n",
       "      <td>3.0</td>\n",
       "      <td>0.0</td>\n",
       "      <td>0.0</td>\n",
       "      <td>-2</td>\n",
       "      <td>1</td>\n",
       "      <td>0</td>\n",
       "      <td>0</td>\n",
       "      <td>0</td>\n",
       "    </tr>\n",
       "  </tbody>\n",
       "</table>\n",
       "<p>5 rows × 52 columns</p>\n",
       "</div>"
      ],
      "text/plain": [
       "      eventDate.date  fighterId  duration  hitsTotal  hitsSuccessful  \\\n",
       "9236      2011-01-29       3312     193.0       66.0            47.0   \n",
       "11528     2016-07-24        876     300.0       30.0             8.0   \n",
       "9549      2011-12-03        812     214.0       24.0             4.0   \n",
       "11321     2016-02-06        721     137.0        3.0             1.0   \n",
       "11179     2015-10-24        868     300.0       38.0            15.0   \n",
       "\n",
       "       takedownTotal  takedownSuccessful  submissionAttempts  takeovers  \\\n",
       "9236             1.0                 1.0                 0.0        0.0   \n",
       "11528            0.0                 0.0                 0.0        0.0   \n",
       "9549             2.0                 0.0                 0.0        0.0   \n",
       "11321            1.0                 0.0                 0.0        0.0   \n",
       "11179            1.0                 0.0                 0.0        0.0   \n",
       "\n",
       "       accentedHitsTotal  ...  def_accentedHitsPositionDistanceSuccessful  \\\n",
       "9236                26.0  ...                                         2.0   \n",
       "11528               30.0  ...                                        36.0   \n",
       "9549                24.0  ...                                        19.0   \n",
       "11321                3.0  ...                                         1.0   \n",
       "11179               32.0  ...                                         7.0   \n",
       "\n",
       "       def_accentedHitsPositionClinchTotal  \\\n",
       "9236                                   0.0   \n",
       "11528                                  3.0   \n",
       "9549                                   0.0   \n",
       "11321                                  0.0   \n",
       "11179                                  4.0   \n",
       "\n",
       "       def_accentedHitsPositionClinchSuccessful  \\\n",
       "9236                                        0.0   \n",
       "11528                                       1.0   \n",
       "9549                                        0.0   \n",
       "11321                                       0.0   \n",
       "11179                                       3.0   \n",
       "\n",
       "       def_accentedHitsPositionParterTotal  \\\n",
       "9236                                   0.0   \n",
       "11528                                  0.0   \n",
       "9549                                  30.0   \n",
       "11321                                 26.0   \n",
       "11179                                  0.0   \n",
       "\n",
       "       def_accentedHitsPositionParterSuccessful  winner  winMethods_DEC  \\\n",
       "9236                                        0.0      -1               0   \n",
       "11528                                       0.0      -2               1   \n",
       "9549                                       21.0      -2               0   \n",
       "11321                                      13.0      -2               0   \n",
       "11179                                       0.0      -2               1   \n",
       "\n",
       "       winMethods_DQ  winMethods_KO  winMethods_SUB  \n",
       "9236               0              1               0  \n",
       "11528              0              0               0  \n",
       "9549               0              1               0  \n",
       "11321              0              1               0  \n",
       "11179              0              0               0  \n",
       "\n",
       "[5 rows x 52 columns]"
      ]
     },
     "execution_count": 69,
     "metadata": {},
     "output_type": "execute_result"
    }
   ],
   "source": [
    "fighter_to_agg_dict = {'fighterId_1': 'fighterId', 'fighterId_2': 'fighterId'}\n",
    "fighter_to_agg_dict = {**fighter_to_agg_dict, \\\n",
    "                       **dict(zip(f1_agg_columns, agg_columns)),\\\n",
    "                       **dict(zip(f2_agg_columns, agg_columns))}\n",
    "\n",
    "player_stats_agg_f1 = events_df.loc[:, ['eventDate.date', 'fighterId_1', 'duration'] + f1_agg_columns]\n",
    "player_stats_agg_f1 = player_stats_agg_f1.rename(fighter_to_agg_dict, axis=1)\n",
    "\n",
    "player_stats_agg_f2 = events_df.loc[:, ['eventDate.date', 'fighterId_2', 'duration'] + f2_agg_columns]\n",
    "player_stats_agg_f2 = player_stats_agg_f2.rename(fighter_to_agg_dict, axis=1)\n",
    "\n",
    "player_stats_agg = player_stats_agg_f1.append(player_stats_agg_f2, ignore_index=True)\n",
    "player_stats_agg.sample(5)"
   ]
  },
  {
   "cell_type": "code",
   "execution_count": 70,
   "metadata": {
    "id": "Chd1ivXmGXB_"
   },
   "outputs": [],
   "source": [
    "player_stats_agg = player_stats_agg.sort_values('eventDate.date')"
   ]
  },
  {
   "cell_type": "markdown",
   "metadata": {
    "id": "5L9ZXdhs9Obk"
   },
   "source": [
    "Аггрегируем данные"
   ]
  },
  {
   "cell_type": "code",
   "execution_count": 71,
   "metadata": {
    "colab": {
     "base_uri": "https://localhost:8080/",
     "height": 418
    },
    "id": "J9yuCpnyGjPY",
    "outputId": "d766c5aa-0a85-41ae-da9c-63bd27bf8ee4"
   },
   "outputs": [
    {
     "data": {
      "text/html": [
       "<div>\n",
       "<style scoped>\n",
       "    .dataframe tbody tr th:only-of-type {\n",
       "        vertical-align: middle;\n",
       "    }\n",
       "\n",
       "    .dataframe tbody tr th {\n",
       "        vertical-align: top;\n",
       "    }\n",
       "\n",
       "    .dataframe thead th {\n",
       "        text-align: right;\n",
       "    }\n",
       "</style>\n",
       "<table border=\"1\" class=\"dataframe\">\n",
       "  <thead>\n",
       "    <tr style=\"text-align: right;\">\n",
       "      <th></th>\n",
       "      <th></th>\n",
       "      <th>duration</th>\n",
       "      <th>hitsTotal</th>\n",
       "      <th>hitsSuccessful</th>\n",
       "      <th>takedownTotal</th>\n",
       "      <th>takedownSuccessful</th>\n",
       "      <th>submissionAttempts</th>\n",
       "      <th>takeovers</th>\n",
       "      <th>accentedHitsTotal</th>\n",
       "      <th>accentedHitsSuccessful</th>\n",
       "      <th>knockdowns</th>\n",
       "      <th>...</th>\n",
       "      <th>def_accentedHitsPositionDistanceSuccessful</th>\n",
       "      <th>def_accentedHitsPositionClinchTotal</th>\n",
       "      <th>def_accentedHitsPositionClinchSuccessful</th>\n",
       "      <th>def_accentedHitsPositionParterTotal</th>\n",
       "      <th>def_accentedHitsPositionParterSuccessful</th>\n",
       "      <th>winner</th>\n",
       "      <th>winMethods_DEC</th>\n",
       "      <th>winMethods_DQ</th>\n",
       "      <th>winMethods_KO</th>\n",
       "      <th>winMethods_SUB</th>\n",
       "    </tr>\n",
       "    <tr>\n",
       "      <th>fighterId</th>\n",
       "      <th>eventDate.date</th>\n",
       "      <th></th>\n",
       "      <th></th>\n",
       "      <th></th>\n",
       "      <th></th>\n",
       "      <th></th>\n",
       "      <th></th>\n",
       "      <th></th>\n",
       "      <th></th>\n",
       "      <th></th>\n",
       "      <th></th>\n",
       "      <th></th>\n",
       "      <th></th>\n",
       "      <th></th>\n",
       "      <th></th>\n",
       "      <th></th>\n",
       "      <th></th>\n",
       "      <th></th>\n",
       "      <th></th>\n",
       "      <th></th>\n",
       "      <th></th>\n",
       "      <th></th>\n",
       "    </tr>\n",
       "  </thead>\n",
       "  <tbody>\n",
       "    <tr>\n",
       "      <th rowspan=\"5\" valign=\"top\">1</th>\n",
       "      <th>2019-10-19 04:00:00</th>\n",
       "      <td>300.0</td>\n",
       "      <td>51.0</td>\n",
       "      <td>35.0</td>\n",
       "      <td>0.0</td>\n",
       "      <td>0.0</td>\n",
       "      <td>0.0</td>\n",
       "      <td>0.0</td>\n",
       "      <td>51.0</td>\n",
       "      <td>35.0</td>\n",
       "      <td>0.0</td>\n",
       "      <td>...</td>\n",
       "      <td>13.0</td>\n",
       "      <td>0.0</td>\n",
       "      <td>0.0</td>\n",
       "      <td>0.0</td>\n",
       "      <td>0.0</td>\n",
       "      <td>1</td>\n",
       "      <td>0</td>\n",
       "      <td>0</td>\n",
       "      <td>0</td>\n",
       "      <td>0</td>\n",
       "    </tr>\n",
       "    <tr>\n",
       "      <th>2019-12-21 00:00:00</th>\n",
       "      <td>600.0</td>\n",
       "      <td>88.0</td>\n",
       "      <td>48.0</td>\n",
       "      <td>0.0</td>\n",
       "      <td>0.0</td>\n",
       "      <td>0.0</td>\n",
       "      <td>0.0</td>\n",
       "      <td>88.0</td>\n",
       "      <td>48.0</td>\n",
       "      <td>0.0</td>\n",
       "      <td>...</td>\n",
       "      <td>33.0</td>\n",
       "      <td>1.0</td>\n",
       "      <td>1.0</td>\n",
       "      <td>0.0</td>\n",
       "      <td>0.0</td>\n",
       "      <td>1</td>\n",
       "      <td>0</td>\n",
       "      <td>0</td>\n",
       "      <td>0</td>\n",
       "      <td>0</td>\n",
       "    </tr>\n",
       "    <tr>\n",
       "      <th>2020-06-27 00:00:00</th>\n",
       "      <td>761.0</td>\n",
       "      <td>110.0</td>\n",
       "      <td>63.0</td>\n",
       "      <td>0.0</td>\n",
       "      <td>0.0</td>\n",
       "      <td>0.0</td>\n",
       "      <td>0.0</td>\n",
       "      <td>110.0</td>\n",
       "      <td>63.0</td>\n",
       "      <td>0.0</td>\n",
       "      <td>...</td>\n",
       "      <td>39.0</td>\n",
       "      <td>1.0</td>\n",
       "      <td>1.0</td>\n",
       "      <td>0.0</td>\n",
       "      <td>0.0</td>\n",
       "      <td>2</td>\n",
       "      <td>0</td>\n",
       "      <td>0</td>\n",
       "      <td>1</td>\n",
       "      <td>0</td>\n",
       "    </tr>\n",
       "    <tr>\n",
       "      <th>2020-07-25 00:00:00</th>\n",
       "      <td>917.0</td>\n",
       "      <td>146.0</td>\n",
       "      <td>91.0</td>\n",
       "      <td>0.0</td>\n",
       "      <td>0.0</td>\n",
       "      <td>0.0</td>\n",
       "      <td>0.0</td>\n",
       "      <td>146.0</td>\n",
       "      <td>91.0</td>\n",
       "      <td>0.0</td>\n",
       "      <td>...</td>\n",
       "      <td>46.0</td>\n",
       "      <td>2.0</td>\n",
       "      <td>1.0</td>\n",
       "      <td>0.0</td>\n",
       "      <td>0.0</td>\n",
       "      <td>3</td>\n",
       "      <td>0</td>\n",
       "      <td>0</td>\n",
       "      <td>2</td>\n",
       "      <td>0</td>\n",
       "    </tr>\n",
       "    <tr>\n",
       "      <th>2020-11-07 00:00:00</th>\n",
       "      <td>1217.0</td>\n",
       "      <td>201.0</td>\n",
       "      <td>120.0</td>\n",
       "      <td>0.0</td>\n",
       "      <td>0.0</td>\n",
       "      <td>0.0</td>\n",
       "      <td>0.0</td>\n",
       "      <td>201.0</td>\n",
       "      <td>120.0</td>\n",
       "      <td>0.0</td>\n",
       "      <td>...</td>\n",
       "      <td>60.0</td>\n",
       "      <td>3.0</td>\n",
       "      <td>2.0</td>\n",
       "      <td>0.0</td>\n",
       "      <td>0.0</td>\n",
       "      <td>3</td>\n",
       "      <td>0</td>\n",
       "      <td>0</td>\n",
       "      <td>2</td>\n",
       "      <td>0</td>\n",
       "    </tr>\n",
       "  </tbody>\n",
       "</table>\n",
       "<p>5 rows × 50 columns</p>\n",
       "</div>"
      ],
      "text/plain": [
       "                               duration  hitsTotal  hitsSuccessful  \\\n",
       "fighterId eventDate.date                                             \n",
       "1         2019-10-19 04:00:00     300.0       51.0            35.0   \n",
       "          2019-12-21 00:00:00     600.0       88.0            48.0   \n",
       "          2020-06-27 00:00:00     761.0      110.0            63.0   \n",
       "          2020-07-25 00:00:00     917.0      146.0            91.0   \n",
       "          2020-11-07 00:00:00    1217.0      201.0           120.0   \n",
       "\n",
       "                               takedownTotal  takedownSuccessful  \\\n",
       "fighterId eventDate.date                                           \n",
       "1         2019-10-19 04:00:00            0.0                 0.0   \n",
       "          2019-12-21 00:00:00            0.0                 0.0   \n",
       "          2020-06-27 00:00:00            0.0                 0.0   \n",
       "          2020-07-25 00:00:00            0.0                 0.0   \n",
       "          2020-11-07 00:00:00            0.0                 0.0   \n",
       "\n",
       "                               submissionAttempts  takeovers  \\\n",
       "fighterId eventDate.date                                       \n",
       "1         2019-10-19 04:00:00                 0.0        0.0   \n",
       "          2019-12-21 00:00:00                 0.0        0.0   \n",
       "          2020-06-27 00:00:00                 0.0        0.0   \n",
       "          2020-07-25 00:00:00                 0.0        0.0   \n",
       "          2020-11-07 00:00:00                 0.0        0.0   \n",
       "\n",
       "                               accentedHitsTotal  accentedHitsSuccessful  \\\n",
       "fighterId eventDate.date                                                   \n",
       "1         2019-10-19 04:00:00               51.0                    35.0   \n",
       "          2019-12-21 00:00:00               88.0                    48.0   \n",
       "          2020-06-27 00:00:00              110.0                    63.0   \n",
       "          2020-07-25 00:00:00              146.0                    91.0   \n",
       "          2020-11-07 00:00:00              201.0                   120.0   \n",
       "\n",
       "                               knockdowns  ...  \\\n",
       "fighterId eventDate.date                   ...   \n",
       "1         2019-10-19 04:00:00         0.0  ...   \n",
       "          2019-12-21 00:00:00         0.0  ...   \n",
       "          2020-06-27 00:00:00         0.0  ...   \n",
       "          2020-07-25 00:00:00         0.0  ...   \n",
       "          2020-11-07 00:00:00         0.0  ...   \n",
       "\n",
       "                               def_accentedHitsPositionDistanceSuccessful  \\\n",
       "fighterId eventDate.date                                                    \n",
       "1         2019-10-19 04:00:00                                        13.0   \n",
       "          2019-12-21 00:00:00                                        33.0   \n",
       "          2020-06-27 00:00:00                                        39.0   \n",
       "          2020-07-25 00:00:00                                        46.0   \n",
       "          2020-11-07 00:00:00                                        60.0   \n",
       "\n",
       "                               def_accentedHitsPositionClinchTotal  \\\n",
       "fighterId eventDate.date                                             \n",
       "1         2019-10-19 04:00:00                                  0.0   \n",
       "          2019-12-21 00:00:00                                  1.0   \n",
       "          2020-06-27 00:00:00                                  1.0   \n",
       "          2020-07-25 00:00:00                                  2.0   \n",
       "          2020-11-07 00:00:00                                  3.0   \n",
       "\n",
       "                               def_accentedHitsPositionClinchSuccessful  \\\n",
       "fighterId eventDate.date                                                  \n",
       "1         2019-10-19 04:00:00                                       0.0   \n",
       "          2019-12-21 00:00:00                                       1.0   \n",
       "          2020-06-27 00:00:00                                       1.0   \n",
       "          2020-07-25 00:00:00                                       1.0   \n",
       "          2020-11-07 00:00:00                                       2.0   \n",
       "\n",
       "                               def_accentedHitsPositionParterTotal  \\\n",
       "fighterId eventDate.date                                             \n",
       "1         2019-10-19 04:00:00                                  0.0   \n",
       "          2019-12-21 00:00:00                                  0.0   \n",
       "          2020-06-27 00:00:00                                  0.0   \n",
       "          2020-07-25 00:00:00                                  0.0   \n",
       "          2020-11-07 00:00:00                                  0.0   \n",
       "\n",
       "                               def_accentedHitsPositionParterSuccessful  \\\n",
       "fighterId eventDate.date                                                  \n",
       "1         2019-10-19 04:00:00                                       0.0   \n",
       "          2019-12-21 00:00:00                                       0.0   \n",
       "          2020-06-27 00:00:00                                       0.0   \n",
       "          2020-07-25 00:00:00                                       0.0   \n",
       "          2020-11-07 00:00:00                                       0.0   \n",
       "\n",
       "                               winner  winMethods_DEC  winMethods_DQ  \\\n",
       "fighterId eventDate.date                                               \n",
       "1         2019-10-19 04:00:00       1               0              0   \n",
       "          2019-12-21 00:00:00       1               0              0   \n",
       "          2020-06-27 00:00:00       2               0              0   \n",
       "          2020-07-25 00:00:00       3               0              0   \n",
       "          2020-11-07 00:00:00       3               0              0   \n",
       "\n",
       "                               winMethods_KO  winMethods_SUB  \n",
       "fighterId eventDate.date                                      \n",
       "1         2019-10-19 04:00:00              0               0  \n",
       "          2019-12-21 00:00:00              0               0  \n",
       "          2020-06-27 00:00:00              1               0  \n",
       "          2020-07-25 00:00:00              2               0  \n",
       "          2020-11-07 00:00:00              2               0  \n",
       "\n",
       "[5 rows x 50 columns]"
      ]
     },
     "execution_count": 71,
     "metadata": {},
     "output_type": "execute_result"
    }
   ],
   "source": [
    "player_stats_agg = player_stats_agg.groupby(['fighterId', 'eventDate.date']).sum().groupby(level=0).cumsum()\n",
    "player_stats_agg.head()"
   ]
  },
  {
   "cell_type": "markdown",
   "metadata": {
    "id": "A6SMPUZn9XQY"
   },
   "source": [
    "Т.к. нам нужна статистика, которая не включает текущий бой, сместим данные на единицу"
   ]
  },
  {
   "cell_type": "code",
   "execution_count": 72,
   "metadata": {
    "colab": {
     "base_uri": "https://localhost:8080/",
     "height": 418
    },
    "id": "rWENDgd067AN",
    "outputId": "c76d9d9d-7b9a-46c9-ef79-7e88460a65c3"
   },
   "outputs": [
    {
     "data": {
      "text/html": [
       "<div>\n",
       "<style scoped>\n",
       "    .dataframe tbody tr th:only-of-type {\n",
       "        vertical-align: middle;\n",
       "    }\n",
       "\n",
       "    .dataframe tbody tr th {\n",
       "        vertical-align: top;\n",
       "    }\n",
       "\n",
       "    .dataframe thead th {\n",
       "        text-align: right;\n",
       "    }\n",
       "</style>\n",
       "<table border=\"1\" class=\"dataframe\">\n",
       "  <thead>\n",
       "    <tr style=\"text-align: right;\">\n",
       "      <th></th>\n",
       "      <th></th>\n",
       "      <th>duration</th>\n",
       "      <th>hitsTotal</th>\n",
       "      <th>hitsSuccessful</th>\n",
       "      <th>takedownTotal</th>\n",
       "      <th>takedownSuccessful</th>\n",
       "      <th>submissionAttempts</th>\n",
       "      <th>takeovers</th>\n",
       "      <th>accentedHitsTotal</th>\n",
       "      <th>accentedHitsSuccessful</th>\n",
       "      <th>knockdowns</th>\n",
       "      <th>...</th>\n",
       "      <th>def_accentedHitsPositionDistanceSuccessful</th>\n",
       "      <th>def_accentedHitsPositionClinchTotal</th>\n",
       "      <th>def_accentedHitsPositionClinchSuccessful</th>\n",
       "      <th>def_accentedHitsPositionParterTotal</th>\n",
       "      <th>def_accentedHitsPositionParterSuccessful</th>\n",
       "      <th>winner</th>\n",
       "      <th>winMethods_DEC</th>\n",
       "      <th>winMethods_DQ</th>\n",
       "      <th>winMethods_KO</th>\n",
       "      <th>winMethods_SUB</th>\n",
       "    </tr>\n",
       "    <tr>\n",
       "      <th>fighterId</th>\n",
       "      <th>eventDate.date</th>\n",
       "      <th></th>\n",
       "      <th></th>\n",
       "      <th></th>\n",
       "      <th></th>\n",
       "      <th></th>\n",
       "      <th></th>\n",
       "      <th></th>\n",
       "      <th></th>\n",
       "      <th></th>\n",
       "      <th></th>\n",
       "      <th></th>\n",
       "      <th></th>\n",
       "      <th></th>\n",
       "      <th></th>\n",
       "      <th></th>\n",
       "      <th></th>\n",
       "      <th></th>\n",
       "      <th></th>\n",
       "      <th></th>\n",
       "      <th></th>\n",
       "      <th></th>\n",
       "    </tr>\n",
       "  </thead>\n",
       "  <tbody>\n",
       "    <tr>\n",
       "      <th rowspan=\"5\" valign=\"top\">1</th>\n",
       "      <th>2019-10-19 04:00:00</th>\n",
       "      <td>0.0</td>\n",
       "      <td>0.0</td>\n",
       "      <td>0.0</td>\n",
       "      <td>0.0</td>\n",
       "      <td>0.0</td>\n",
       "      <td>0.0</td>\n",
       "      <td>0.0</td>\n",
       "      <td>0.0</td>\n",
       "      <td>0.0</td>\n",
       "      <td>0.0</td>\n",
       "      <td>...</td>\n",
       "      <td>0.0</td>\n",
       "      <td>0.0</td>\n",
       "      <td>0.0</td>\n",
       "      <td>0.0</td>\n",
       "      <td>0.0</td>\n",
       "      <td>0.0</td>\n",
       "      <td>0.0</td>\n",
       "      <td>0.0</td>\n",
       "      <td>0.0</td>\n",
       "      <td>0.0</td>\n",
       "    </tr>\n",
       "    <tr>\n",
       "      <th>2019-12-21 00:00:00</th>\n",
       "      <td>300.0</td>\n",
       "      <td>51.0</td>\n",
       "      <td>35.0</td>\n",
       "      <td>0.0</td>\n",
       "      <td>0.0</td>\n",
       "      <td>0.0</td>\n",
       "      <td>0.0</td>\n",
       "      <td>51.0</td>\n",
       "      <td>35.0</td>\n",
       "      <td>0.0</td>\n",
       "      <td>...</td>\n",
       "      <td>13.0</td>\n",
       "      <td>0.0</td>\n",
       "      <td>0.0</td>\n",
       "      <td>0.0</td>\n",
       "      <td>0.0</td>\n",
       "      <td>1.0</td>\n",
       "      <td>0.0</td>\n",
       "      <td>0.0</td>\n",
       "      <td>0.0</td>\n",
       "      <td>0.0</td>\n",
       "    </tr>\n",
       "    <tr>\n",
       "      <th>2020-06-27 00:00:00</th>\n",
       "      <td>600.0</td>\n",
       "      <td>88.0</td>\n",
       "      <td>48.0</td>\n",
       "      <td>0.0</td>\n",
       "      <td>0.0</td>\n",
       "      <td>0.0</td>\n",
       "      <td>0.0</td>\n",
       "      <td>88.0</td>\n",
       "      <td>48.0</td>\n",
       "      <td>0.0</td>\n",
       "      <td>...</td>\n",
       "      <td>33.0</td>\n",
       "      <td>1.0</td>\n",
       "      <td>1.0</td>\n",
       "      <td>0.0</td>\n",
       "      <td>0.0</td>\n",
       "      <td>1.0</td>\n",
       "      <td>0.0</td>\n",
       "      <td>0.0</td>\n",
       "      <td>0.0</td>\n",
       "      <td>0.0</td>\n",
       "    </tr>\n",
       "    <tr>\n",
       "      <th>2020-07-25 00:00:00</th>\n",
       "      <td>761.0</td>\n",
       "      <td>110.0</td>\n",
       "      <td>63.0</td>\n",
       "      <td>0.0</td>\n",
       "      <td>0.0</td>\n",
       "      <td>0.0</td>\n",
       "      <td>0.0</td>\n",
       "      <td>110.0</td>\n",
       "      <td>63.0</td>\n",
       "      <td>0.0</td>\n",
       "      <td>...</td>\n",
       "      <td>39.0</td>\n",
       "      <td>1.0</td>\n",
       "      <td>1.0</td>\n",
       "      <td>0.0</td>\n",
       "      <td>0.0</td>\n",
       "      <td>2.0</td>\n",
       "      <td>0.0</td>\n",
       "      <td>0.0</td>\n",
       "      <td>1.0</td>\n",
       "      <td>0.0</td>\n",
       "    </tr>\n",
       "    <tr>\n",
       "      <th>2020-11-07 00:00:00</th>\n",
       "      <td>917.0</td>\n",
       "      <td>146.0</td>\n",
       "      <td>91.0</td>\n",
       "      <td>0.0</td>\n",
       "      <td>0.0</td>\n",
       "      <td>0.0</td>\n",
       "      <td>0.0</td>\n",
       "      <td>146.0</td>\n",
       "      <td>91.0</td>\n",
       "      <td>0.0</td>\n",
       "      <td>...</td>\n",
       "      <td>46.0</td>\n",
       "      <td>2.0</td>\n",
       "      <td>1.0</td>\n",
       "      <td>0.0</td>\n",
       "      <td>0.0</td>\n",
       "      <td>3.0</td>\n",
       "      <td>0.0</td>\n",
       "      <td>0.0</td>\n",
       "      <td>2.0</td>\n",
       "      <td>0.0</td>\n",
       "    </tr>\n",
       "  </tbody>\n",
       "</table>\n",
       "<p>5 rows × 50 columns</p>\n",
       "</div>"
      ],
      "text/plain": [
       "                               duration  hitsTotal  hitsSuccessful  \\\n",
       "fighterId eventDate.date                                             \n",
       "1         2019-10-19 04:00:00       0.0        0.0             0.0   \n",
       "          2019-12-21 00:00:00     300.0       51.0            35.0   \n",
       "          2020-06-27 00:00:00     600.0       88.0            48.0   \n",
       "          2020-07-25 00:00:00     761.0      110.0            63.0   \n",
       "          2020-11-07 00:00:00     917.0      146.0            91.0   \n",
       "\n",
       "                               takedownTotal  takedownSuccessful  \\\n",
       "fighterId eventDate.date                                           \n",
       "1         2019-10-19 04:00:00            0.0                 0.0   \n",
       "          2019-12-21 00:00:00            0.0                 0.0   \n",
       "          2020-06-27 00:00:00            0.0                 0.0   \n",
       "          2020-07-25 00:00:00            0.0                 0.0   \n",
       "          2020-11-07 00:00:00            0.0                 0.0   \n",
       "\n",
       "                               submissionAttempts  takeovers  \\\n",
       "fighterId eventDate.date                                       \n",
       "1         2019-10-19 04:00:00                 0.0        0.0   \n",
       "          2019-12-21 00:00:00                 0.0        0.0   \n",
       "          2020-06-27 00:00:00                 0.0        0.0   \n",
       "          2020-07-25 00:00:00                 0.0        0.0   \n",
       "          2020-11-07 00:00:00                 0.0        0.0   \n",
       "\n",
       "                               accentedHitsTotal  accentedHitsSuccessful  \\\n",
       "fighterId eventDate.date                                                   \n",
       "1         2019-10-19 04:00:00                0.0                     0.0   \n",
       "          2019-12-21 00:00:00               51.0                    35.0   \n",
       "          2020-06-27 00:00:00               88.0                    48.0   \n",
       "          2020-07-25 00:00:00              110.0                    63.0   \n",
       "          2020-11-07 00:00:00              146.0                    91.0   \n",
       "\n",
       "                               knockdowns  ...  \\\n",
       "fighterId eventDate.date                   ...   \n",
       "1         2019-10-19 04:00:00         0.0  ...   \n",
       "          2019-12-21 00:00:00         0.0  ...   \n",
       "          2020-06-27 00:00:00         0.0  ...   \n",
       "          2020-07-25 00:00:00         0.0  ...   \n",
       "          2020-11-07 00:00:00         0.0  ...   \n",
       "\n",
       "                               def_accentedHitsPositionDistanceSuccessful  \\\n",
       "fighterId eventDate.date                                                    \n",
       "1         2019-10-19 04:00:00                                         0.0   \n",
       "          2019-12-21 00:00:00                                        13.0   \n",
       "          2020-06-27 00:00:00                                        33.0   \n",
       "          2020-07-25 00:00:00                                        39.0   \n",
       "          2020-11-07 00:00:00                                        46.0   \n",
       "\n",
       "                               def_accentedHitsPositionClinchTotal  \\\n",
       "fighterId eventDate.date                                             \n",
       "1         2019-10-19 04:00:00                                  0.0   \n",
       "          2019-12-21 00:00:00                                  0.0   \n",
       "          2020-06-27 00:00:00                                  1.0   \n",
       "          2020-07-25 00:00:00                                  1.0   \n",
       "          2020-11-07 00:00:00                                  2.0   \n",
       "\n",
       "                               def_accentedHitsPositionClinchSuccessful  \\\n",
       "fighterId eventDate.date                                                  \n",
       "1         2019-10-19 04:00:00                                       0.0   \n",
       "          2019-12-21 00:00:00                                       0.0   \n",
       "          2020-06-27 00:00:00                                       1.0   \n",
       "          2020-07-25 00:00:00                                       1.0   \n",
       "          2020-11-07 00:00:00                                       1.0   \n",
       "\n",
       "                               def_accentedHitsPositionParterTotal  \\\n",
       "fighterId eventDate.date                                             \n",
       "1         2019-10-19 04:00:00                                  0.0   \n",
       "          2019-12-21 00:00:00                                  0.0   \n",
       "          2020-06-27 00:00:00                                  0.0   \n",
       "          2020-07-25 00:00:00                                  0.0   \n",
       "          2020-11-07 00:00:00                                  0.0   \n",
       "\n",
       "                               def_accentedHitsPositionParterSuccessful  \\\n",
       "fighterId eventDate.date                                                  \n",
       "1         2019-10-19 04:00:00                                       0.0   \n",
       "          2019-12-21 00:00:00                                       0.0   \n",
       "          2020-06-27 00:00:00                                       0.0   \n",
       "          2020-07-25 00:00:00                                       0.0   \n",
       "          2020-11-07 00:00:00                                       0.0   \n",
       "\n",
       "                               winner  winMethods_DEC  winMethods_DQ  \\\n",
       "fighterId eventDate.date                                               \n",
       "1         2019-10-19 04:00:00     0.0             0.0            0.0   \n",
       "          2019-12-21 00:00:00     1.0             0.0            0.0   \n",
       "          2020-06-27 00:00:00     1.0             0.0            0.0   \n",
       "          2020-07-25 00:00:00     2.0             0.0            0.0   \n",
       "          2020-11-07 00:00:00     3.0             0.0            0.0   \n",
       "\n",
       "                               winMethods_KO  winMethods_SUB  \n",
       "fighterId eventDate.date                                      \n",
       "1         2019-10-19 04:00:00            0.0             0.0  \n",
       "          2019-12-21 00:00:00            0.0             0.0  \n",
       "          2020-06-27 00:00:00            0.0             0.0  \n",
       "          2020-07-25 00:00:00            1.0             0.0  \n",
       "          2020-11-07 00:00:00            2.0             0.0  \n",
       "\n",
       "[5 rows x 50 columns]"
      ]
     },
     "execution_count": 72,
     "metadata": {},
     "output_type": "execute_result"
    }
   ],
   "source": [
    "player_stats_agg = player_stats_agg.groupby(level=0).shift().fillna(0)\n",
    "player_stats_agg.head()"
   ]
  },
  {
   "cell_type": "markdown",
   "metadata": {
    "id": "zqZ0ZLA09rBP"
   },
   "source": [
    "Создадим вспомогательную функцию чтобы заполнить данные в таблице о боях нашими аггрегированными статистиками"
   ]
  },
  {
   "cell_type": "code",
   "execution_count": 73,
   "metadata": {
    "id": "A7QniMjXLnp3"
   },
   "outputs": [],
   "source": [
    "def fill_with_agg(row):\n",
    "    key = (row['fighterId_1'], row['eventDate.date'])\n",
    "    values = player_stats_agg.loc[key]\n",
    "    values = values.add_prefix('f1_')\n",
    "    row.loc[values.index] = values\n",
    "\n",
    "    key = (row['fighterId_2'], row['eventDate.date'])\n",
    "    values = player_stats_agg.loc[key]\n",
    "    values = values.add_prefix('f2_')\n",
    "    row.loc[values.index] = values\n",
    "\n",
    "    return row"
   ]
  },
  {
   "cell_type": "code",
   "execution_count": 74,
   "metadata": {
    "colab": {
     "base_uri": "https://localhost:8080/",
     "height": 418
    },
    "id": "e7L-FlK3NmyM",
    "outputId": "d8235daf-17fb-41e4-a5a6-d3e138fdd787"
   },
   "outputs": [
    {
     "data": {
      "text/html": [
       "<div>\n",
       "<style scoped>\n",
       "    .dataframe tbody tr th:only-of-type {\n",
       "        vertical-align: middle;\n",
       "    }\n",
       "\n",
       "    .dataframe tbody tr th {\n",
       "        vertical-align: top;\n",
       "    }\n",
       "\n",
       "    .dataframe thead th {\n",
       "        text-align: right;\n",
       "    }\n",
       "</style>\n",
       "<table border=\"1\" class=\"dataframe\">\n",
       "  <thead>\n",
       "    <tr style=\"text-align: right;\">\n",
       "      <th></th>\n",
       "      <th>city</th>\n",
       "      <th>country</th>\n",
       "      <th>duration</th>\n",
       "      <th>eventDate.date</th>\n",
       "      <th>fighterId_1</th>\n",
       "      <th>fighterId_2</th>\n",
       "      <th>rounds</th>\n",
       "      <th>timezone</th>\n",
       "      <th>weightCategory.id</th>\n",
       "      <th>winner</th>\n",
       "      <th>...</th>\n",
       "      <th>f1_winMethods_DEC</th>\n",
       "      <th>f1_winMethods_DQ</th>\n",
       "      <th>f1_winMethods_KO</th>\n",
       "      <th>f1_winMethods_SUB</th>\n",
       "      <th>f2_winMethods_DEC</th>\n",
       "      <th>f2_winMethods_DQ</th>\n",
       "      <th>f2_winMethods_KO</th>\n",
       "      <th>f2_winMethods_SUB</th>\n",
       "      <th>f1_duration</th>\n",
       "      <th>f2_duration</th>\n",
       "    </tr>\n",
       "    <tr>\n",
       "      <th>id</th>\n",
       "      <th></th>\n",
       "      <th></th>\n",
       "      <th></th>\n",
       "      <th></th>\n",
       "      <th></th>\n",
       "      <th></th>\n",
       "      <th></th>\n",
       "      <th></th>\n",
       "      <th></th>\n",
       "      <th></th>\n",
       "      <th></th>\n",
       "      <th></th>\n",
       "      <th></th>\n",
       "      <th></th>\n",
       "      <th></th>\n",
       "      <th></th>\n",
       "      <th></th>\n",
       "      <th></th>\n",
       "      <th></th>\n",
       "      <th></th>\n",
       "      <th></th>\n",
       "    </tr>\n",
       "  </thead>\n",
       "  <tbody>\n",
       "    <tr>\n",
       "      <th>40497</th>\n",
       "      <td>Las Vegas</td>\n",
       "      <td>USA</td>\n",
       "      <td>300.0</td>\n",
       "      <td>2021-02-27</td>\n",
       "      <td>421</td>\n",
       "      <td>668</td>\n",
       "      <td>3.0</td>\n",
       "      <td>America/Los_Angeles</td>\n",
       "      <td>5</td>\n",
       "      <td>False</td>\n",
       "      <td>...</td>\n",
       "      <td>2.0</td>\n",
       "      <td>0.0</td>\n",
       "      <td>4.0</td>\n",
       "      <td>0.0</td>\n",
       "      <td>3.0</td>\n",
       "      <td>0.0</td>\n",
       "      <td>0.0</td>\n",
       "      <td>1.0</td>\n",
       "      <td>1236.0</td>\n",
       "      <td>1225.0</td>\n",
       "    </tr>\n",
       "    <tr>\n",
       "      <th>40498</th>\n",
       "      <td>Las Vegas</td>\n",
       "      <td>USA</td>\n",
       "      <td>158.0</td>\n",
       "      <td>2021-02-27</td>\n",
       "      <td>3504</td>\n",
       "      <td>3521</td>\n",
       "      <td>3.0</td>\n",
       "      <td>America/Los_Angeles</td>\n",
       "      <td>3</td>\n",
       "      <td>True</td>\n",
       "      <td>...</td>\n",
       "      <td>0.0</td>\n",
       "      <td>0.0</td>\n",
       "      <td>0.0</td>\n",
       "      <td>0.0</td>\n",
       "      <td>0.0</td>\n",
       "      <td>0.0</td>\n",
       "      <td>0.0</td>\n",
       "      <td>0.0</td>\n",
       "      <td>0.0</td>\n",
       "      <td>0.0</td>\n",
       "    </tr>\n",
       "    <tr>\n",
       "      <th>40500</th>\n",
       "      <td>Las Vegas</td>\n",
       "      <td>USA</td>\n",
       "      <td>300.0</td>\n",
       "      <td>2021-02-27</td>\n",
       "      <td>1334</td>\n",
       "      <td>3463</td>\n",
       "      <td>3.0</td>\n",
       "      <td>America/Los_Angeles</td>\n",
       "      <td>8</td>\n",
       "      <td>True</td>\n",
       "      <td>...</td>\n",
       "      <td>1.0</td>\n",
       "      <td>0.0</td>\n",
       "      <td>1.0</td>\n",
       "      <td>1.0</td>\n",
       "      <td>0.0</td>\n",
       "      <td>0.0</td>\n",
       "      <td>1.0</td>\n",
       "      <td>0.0</td>\n",
       "      <td>526.0</td>\n",
       "      <td>298.0</td>\n",
       "    </tr>\n",
       "    <tr>\n",
       "      <th>40452</th>\n",
       "      <td>Las Vegas</td>\n",
       "      <td>USA</td>\n",
       "      <td>208.0</td>\n",
       "      <td>2021-03-06</td>\n",
       "      <td>246</td>\n",
       "      <td>2073</td>\n",
       "      <td>3.0</td>\n",
       "      <td>America/Los_Angeles</td>\n",
       "      <td>6</td>\n",
       "      <td>False</td>\n",
       "      <td>...</td>\n",
       "      <td>5.0</td>\n",
       "      <td>0.0</td>\n",
       "      <td>2.0</td>\n",
       "      <td>6.0</td>\n",
       "      <td>2.0</td>\n",
       "      <td>0.0</td>\n",
       "      <td>0.0</td>\n",
       "      <td>1.0</td>\n",
       "      <td>3475.0</td>\n",
       "      <td>707.0</td>\n",
       "    </tr>\n",
       "    <tr>\n",
       "      <th>40453</th>\n",
       "      <td>Las Vegas</td>\n",
       "      <td>USA</td>\n",
       "      <td>295.0</td>\n",
       "      <td>2021-03-06</td>\n",
       "      <td>628</td>\n",
       "      <td>687</td>\n",
       "      <td>1.0</td>\n",
       "      <td>America/Los_Angeles</td>\n",
       "      <td>2</td>\n",
       "      <td>False</td>\n",
       "      <td>...</td>\n",
       "      <td>2.0</td>\n",
       "      <td>0.0</td>\n",
       "      <td>1.0</td>\n",
       "      <td>0.0</td>\n",
       "      <td>5.0</td>\n",
       "      <td>0.0</td>\n",
       "      <td>0.0</td>\n",
       "      <td>0.0</td>\n",
       "      <td>776.0</td>\n",
       "      <td>1548.0</td>\n",
       "    </tr>\n",
       "  </tbody>\n",
       "</table>\n",
       "<p>5 rows × 132 columns</p>\n",
       "</div>"
      ],
      "text/plain": [
       "            city country  duration eventDate.date  fighterId_1  fighterId_2  \\\n",
       "id                                                                            \n",
       "40497  Las Vegas     USA     300.0     2021-02-27          421          668   \n",
       "40498  Las Vegas     USA     158.0     2021-02-27         3504         3521   \n",
       "40500  Las Vegas     USA     300.0     2021-02-27         1334         3463   \n",
       "40452  Las Vegas     USA     208.0     2021-03-06          246         2073   \n",
       "40453  Las Vegas     USA     295.0     2021-03-06          628          687   \n",
       "\n",
       "       rounds             timezone  weightCategory.id  winner  ...  \\\n",
       "id                                                             ...   \n",
       "40497     3.0  America/Los_Angeles                  5   False  ...   \n",
       "40498     3.0  America/Los_Angeles                  3    True  ...   \n",
       "40500     3.0  America/Los_Angeles                  8    True  ...   \n",
       "40452     3.0  America/Los_Angeles                  6   False  ...   \n",
       "40453     1.0  America/Los_Angeles                  2   False  ...   \n",
       "\n",
       "       f1_winMethods_DEC  f1_winMethods_DQ  f1_winMethods_KO  \\\n",
       "id                                                             \n",
       "40497                2.0               0.0               4.0   \n",
       "40498                0.0               0.0               0.0   \n",
       "40500                1.0               0.0               1.0   \n",
       "40452                5.0               0.0               2.0   \n",
       "40453                2.0               0.0               1.0   \n",
       "\n",
       "       f1_winMethods_SUB  f2_winMethods_DEC  f2_winMethods_DQ  \\\n",
       "id                                                              \n",
       "40497                0.0                3.0               0.0   \n",
       "40498                0.0                0.0               0.0   \n",
       "40500                1.0                0.0               0.0   \n",
       "40452                6.0                2.0               0.0   \n",
       "40453                0.0                5.0               0.0   \n",
       "\n",
       "       f2_winMethods_KO  f2_winMethods_SUB  f1_duration  f2_duration  \n",
       "id                                                                    \n",
       "40497               0.0                1.0       1236.0       1225.0  \n",
       "40498               0.0                0.0          0.0          0.0  \n",
       "40500               1.0                0.0        526.0        298.0  \n",
       "40452               0.0                1.0       3475.0        707.0  \n",
       "40453               0.0                0.0        776.0       1548.0  \n",
       "\n",
       "[5 rows x 132 columns]"
      ]
     },
     "execution_count": 74,
     "metadata": {},
     "output_type": "execute_result"
    }
   ],
   "source": [
    "events_df = events_df.apply(fill_with_agg, axis=1)\n",
    "events_df.tail(5)"
   ]
  },
  {
   "cell_type": "markdown",
   "metadata": {
    "id": "1YrxNKiMJ6eX"
   },
   "source": [
    "Создадим новый признак - число боев для каждого бойца"
   ]
  },
  {
   "cell_type": "code",
   "execution_count": 75,
   "metadata": {
    "id": "Hczzunb7J6vx"
   },
   "outputs": [],
   "source": [
    "fights = player_stats_agg.groupby(level=0).count()\n",
    "fights = fights.rename({'hitsTotal': 'n_fights'}, axis=1)['n_fights']\n",
    "fights = pd.DataFrame(fights)"
   ]
  },
  {
   "cell_type": "code",
   "execution_count": 76,
   "metadata": {
    "id": "JFzFfUrYJ9xh"
   },
   "outputs": [],
   "source": [
    "events_df = events_df.merge(fights.add_prefix('f1_'), how='left', left_on='fighterId_1', right_index=True)\n",
    "events_df = events_df.merge(fights.add_prefix('f2_'), how='left', left_on='fighterId_2', right_index=True)"
   ]
  },
  {
   "cell_type": "markdown",
   "metadata": {
    "id": "ed0OHjysTLhc"
   },
   "source": [
    "Создаем новые признаки"
   ]
  },
  {
   "cell_type": "code",
   "execution_count": 77,
   "metadata": {
    "colab": {
     "base_uri": "https://localhost:8080/"
    },
    "id": "MzNH_9GxUXXR",
    "outputId": "77ba2f5f-9164-498d-c1e8-e4392784603e"
   },
   "outputs": [],
   "source": [
    "features = [('winMethods_KO', 'n_fights', 'win_ko_per_fight'),\n",
    "            ('winMethods_SUB', 'n_fights', 'win_sub_per_fight'),\n",
    "            ('winMethods_DEC', 'n_fights', 'win_dec_per_fight'),\n",
    "\n",
    "            ('hitsSuccessful', 'hitsTotal', 'hits_acc'),\n",
    "            ('accentedHitsSuccessful', 'accentedHitsTotal', 'accented_hits_acc'),\n",
    "            ('takedownSuccessful', 'takedownTotal', 'takedown_acc'),\n",
    "            ('hitsLegsSuccessful', 'hitsLegsTotal', 'hit_legs_acc'),\n",
    "            ('hitsBodySuccessful', 'hitsBodyTotal', 'hit_body_acc'),\n",
    "            ('hitsHeadSuccessful', 'hitsHeadTotal', 'hit_head_acc'),\n",
    "            ('takeovers', 'n_fights', 'takeovers_per_fight'),\n",
    "\n",
    "            ('hitsTotal', 'duration', 'hits_per_min'),\n",
    "            ('accentedHitsTotal', 'duration', 'accented_hits_per_min'),\n",
    "            ('submissionAttempts', 'duration', 'submission_attempts_per_min'),\n",
    "            \n",
    "            ('duration', 'n_fights', 'avg_fight_time')]\n",
    "\n",
    "for feature in features:\n",
    "    for pre in ['f1_', 'f2_']:\n",
    "        events_df[f'{pre}{feature[2]}'] = events_df[f'{pre}{feature[0]}'] / events_df[f'{pre}{feature[1]}']\n",
    "        events_df[f'{pre}{feature[2]}'] = events_df[f'{pre}{feature[2]}'].fillna(0)"
   ]
  },
  {
   "cell_type": "markdown",
   "metadata": {
    "id": "ncaZ8oXaYGxb"
   },
   "source": [
    "Финальный список фич"
   ]
  },
  {
   "cell_type": "code",
   "execution_count": 78,
   "metadata": {
    "id": "t9rVO7AVXAOi"
   },
   "outputs": [],
   "source": [
    "features_final = ['eventDate.date', 'duration', 'rounds', 'winner', 'f1_odds',\n",
    "                  'f2_odds', 'f1_height', 'f1_weight', 'f2_height', 'f2_weight',\n",
    "                  'f1_age', 'f2_age', 'f1_isHomeTimezone', 'f2_isHomeTimezone',\n",
    "                  'f1_isHomeCountry', 'f2_isHomeCountry', 'f1_n_fights',\n",
    "                  'f2_n_fights', 'f1_win_ko_per_fight', 'f2_win_ko_per_fight',\n",
    "                  'f1_win_sub_per_fight', 'f2_win_sub_per_fight',\n",
    "                  'f1_win_dec_per_fight', 'f2_win_dec_per_fight',\n",
    "                  'f1_hits_acc', 'f2_hits_acc', 'f1_accented_hits_acc',\n",
    "                  'f2_accented_hits_acc', 'f1_takedown_acc', 'f2_takedown_acc',\n",
    "                  'f1_hit_legs_acc', 'f2_hit_legs_acc', 'f1_hit_body_acc',\n",
    "                  'f2_hit_body_acc', 'f1_hit_head_acc', 'f2_hit_head_acc',\n",
    "                  'f1_takeovers_per_fight', 'f2_takeovers_per_fight',\n",
    "                  'f1_hits_per_min', 'f2_hits_per_min', 'f1_accented_hits_per_min',\n",
    "                  'f2_accented_hits_per_min', 'f1_submission_attempts_per_min',\n",
    "                  'f2_submission_attempts_per_min', 'f1_avg_fight_time', \n",
    "                  'f2_avg_fight_time']\n",
    "\n",
    "events_df = events_df.loc[:, features_final]"
   ]
  },
  {
   "cell_type": "markdown",
   "metadata": {
    "id": "Vxjos6RYYg0a"
   },
   "source": [
    "### Сохраним в формате pickle"
   ]
  },
  {
   "cell_type": "code",
   "execution_count": 80,
   "metadata": {
    "id": "8rfPksXq667Z"
   },
   "outputs": [],
   "source": [
    "path = os.path.join(DATA_FOLDER, 'events_df.bin')\n",
    "with open(path, 'wb') as f:\n",
    "    pickle.dump(events_df, f)"
   ]
  }
 ],
 "metadata": {
  "colab": {
   "collapsed_sections": [
    "jtXF_catxKQI"
   ],
   "name": "Hackathon UFC Data",
   "provenance": []
  },
  "kernelspec": {
   "display_name": "Python 3",
   "language": "python",
   "name": "python3"
  },
  "language_info": {
   "codemirror_mode": {
    "name": "ipython",
    "version": 3
   },
   "file_extension": ".py",
   "mimetype": "text/x-python",
   "name": "python",
   "nbconvert_exporter": "python",
   "pygments_lexer": "ipython3",
   "version": "3.8.6"
  }
 },
 "nbformat": 4,
 "nbformat_minor": 5
}
