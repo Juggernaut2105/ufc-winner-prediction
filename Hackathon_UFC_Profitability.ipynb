{
 "cells": [
  {
   "cell_type": "markdown",
   "metadata": {
    "id": "cnAKMNtpBMS7"
   },
   "source": [
    "# Предсказание бойца - победителя UFC\n",
    "## Расчет прибыльности\n",
    "### Межгалактический хакатон 2022\n",
    "Команда \"Meldonium\" <br/>\n",
    "Состав: Вячеслав Барков, Павел Мамаев, Сергей Глуховский, Алексей Недоливко, Андрей Рем, Иван Ершов"
   ]
  },
  {
   "cell_type": "code",
   "execution_count": 3,
   "metadata": {
    "id": "I-P1g8rHlcue"
   },
   "outputs": [],
   "source": [
    "import numpy as np\n",
    "from flask import Flask, request, render_template\n",
    "import pickle"
   ]
  },
  {
   "cell_type": "code",
   "execution_count": 4,
   "metadata": {
    "id": "InkPzv-WxMH3"
   },
   "outputs": [],
   "source": [
    "!curl -L -sS https://github.com/cloudflare/cloudflared/releases/latest/download/cloudflared-linux-amd64.deb -o cloudflared-linux-amd64.deb\n",
    "!dpkg -i cloudflared-linux-amd64.deb &> /dev/null"
   ]
  },
  {
   "cell_type": "code",
   "execution_count": 5,
   "metadata": {
    "id": "LlelQjxu5uJx"
   },
   "outputs": [],
   "source": [
    "path = 'predictions.bin'\n",
    "with open(path, 'rb') as f:\n",
    "    data  = pickle.load(f)"
   ]
  },
  {
   "cell_type": "code",
   "execution_count": 6,
   "metadata": {
    "colab": {
     "base_uri": "https://localhost:8080/"
    },
    "id": "Ryv8ayTW1sq8",
    "outputId": "b41bb4bb-7c4b-4331-b3b3-2a2ad4038c4d"
   },
   "outputs": [
    {
     "name": "stdout",
     "output_type": "stream",
     "text": [
      "bash: /content/gdrive/MyDrive/.config/.cloudflared/install.sh: No such file or directory\r\n"
     ]
    }
   ],
   "source": [
    "!bash /content/gdrive/MyDrive/.config/.cloudflared/install.sh"
   ]
  },
  {
   "cell_type": "code",
   "execution_count": 6,
   "metadata": {
    "id": "SbmVig8VlBhN"
   },
   "outputs": [],
   "source": [
    "!cp -r /content/gdrive/MyDrive/hackathon/templates/* /content/"
   ]
  },
  {
   "cell_type": "code",
   "execution_count": 74,
   "metadata": {
    "id": "UEytI8NkBcai"
   },
   "outputs": [],
   "source": [
    "def model(amount, use_model_strategy=True):\n",
    "    if use_model_strategy:\n",
    "        bank = 0\n",
    "        for ind in data.index:\n",
    "            winner, y_pred, odd1, odd2 = data.loc[ind, ['winner', 'prediction', 'f1_odds', 'f2_odds']]\n",
    "            if winner == y_pred:\n",
    "                if winner:\n",
    "                    win_odd = odd1\n",
    "                else:\n",
    "                    win_odd = odd2\n",
    "            else:\n",
    "                win_odd = -1\n",
    "            bank += amount * win_odd\n",
    "        return bank\n",
    "    else:\n",
    "        bank = 0\n",
    "        for ind in data.index:\n",
    "            winner, y_pred, odd1, odd2 = data.loc[ind, ['winner', 'prediction', 'f1_odds', 'f2_odds']]\n",
    "            favourite = min(odd1, odd2)\n",
    "            if ((favourite == odd1) and winner) or ((favourite == odd2) and ~winner):\n",
    "                win_odd = favourite\n",
    "            else: \n",
    "                win_odd = 0\n",
    "            bank += amount*win_odd - amount\n",
    "        return bank"
   ]
  },
  {
   "cell_type": "code",
   "execution_count": 8,
   "metadata": {
    "colab": {
     "base_uri": "https://localhost:8080/"
    },
    "id": "ZomcQrNzR1ls",
    "outputId": "869382bf-accb-4358-fdd4-1a6124a3079e"
   },
   "outputs": [
    {
     "name": "stdout",
     "output_type": "stream",
     "text": [
      " * Serving Flask app \"__main__\" (lazy loading)\n",
      " * Environment: production\n",
      "\u001b[31m   WARNING: This is a development server. Do not use it in a production deployment.\u001b[0m\n",
      "\u001b[2m   Use a production WSGI server instead.\u001b[0m\n",
      " * Debug mode: off\n"
     ]
    },
    {
     "name": "stderr",
     "output_type": "stream",
     "text": [
      " * Running on http://127.0.0.1:80/ (Press CTRL+C to quit)\n",
      "127.0.0.1 - - [20/May/2022 20:26:05] \"\u001b[37mGET / HTTP/1.1\u001b[0m\" 200 -\n",
      "127.0.0.1 - - [20/May/2022 20:26:06] \"\u001b[33mGET /favicon.ico HTTP/1.1\u001b[0m\" 404 -\n"
     ]
    },
    {
     "name": "stdout",
     "output_type": "stream",
     "text": [
      "100 True\n"
     ]
    },
    {
     "name": "stderr",
     "output_type": "stream",
     "text": [
      "127.0.0.1 - - [20/May/2022 20:26:15] \"\u001b[37mPOST /predict HTTP/1.1\u001b[0m\" 200 -\n",
      "127.0.0.1 - - [20/May/2022 20:28:14] \"\u001b[37mGET / HTTP/1.1\u001b[0m\" 200 -\n",
      "127.0.0.1 - - [20/May/2022 20:28:29] \"\u001b[37mGET / HTTP/1.1\u001b[0m\" 200 -\n",
      "127.0.0.1 - - [20/May/2022 20:28:30] \"\u001b[37mGET /static/css/style.css HTTP/1.1\u001b[0m\" 200 -\n",
      "127.0.0.1 - - [20/May/2022 20:28:30] \"\u001b[33mGET /favicon.ico HTTP/1.1\u001b[0m\" 404 -\n",
      "[2022-05-20 20:28:42,426] ERROR in app: Exception on /predict [POST]\n",
      "Traceback (most recent call last):\n",
      "  File \"/usr/local/lib/python3.7/dist-packages/flask/app.py\", line 2447, in wsgi_app\n",
      "    response = self.full_dispatch_request()\n",
      "  File \"/usr/local/lib/python3.7/dist-packages/flask/app.py\", line 1952, in full_dispatch_request\n",
      "    rv = self.handle_user_exception(e)\n",
      "  File \"/usr/local/lib/python3.7/dist-packages/flask/app.py\", line 1821, in handle_user_exception\n",
      "    reraise(exc_type, exc_value, tb)\n",
      "  File \"/usr/local/lib/python3.7/dist-packages/flask/_compat.py\", line 39, in reraise\n",
      "    raise value\n",
      "  File \"/usr/local/lib/python3.7/dist-packages/flask/app.py\", line 1950, in full_dispatch_request\n",
      "    rv = self.dispatch_request()\n",
      "  File \"/usr/local/lib/python3.7/dist-packages/flask/app.py\", line 1936, in dispatch_request\n",
      "    return self.view_functions[rule.endpoint](**req.view_args)\n",
      "  File \"<ipython-input-8-ad7c61698717>\", line 9, in predict\n",
      "    amount, strategy = request.form.values()\n",
      "ValueError: not enough values to unpack (expected 2, got 1)\n",
      "127.0.0.1 - - [20/May/2022 20:28:42] \"\u001b[35m\u001b[1mPOST /predict HTTP/1.1\u001b[0m\" 500 -\n",
      "127.0.0.1 - - [20/May/2022 20:28:47] \"\u001b[37mGET / HTTP/1.1\u001b[0m\" 200 -\n",
      "127.0.0.1 - - [20/May/2022 20:28:48] \"\u001b[37mGET /static/css/style.css HTTP/1.1\u001b[0m\" 200 -\n",
      "127.0.0.1 - - [20/May/2022 20:28:48] \"\u001b[33mGET /favicon.ico HTTP/1.1\u001b[0m\" 404 -\n"
     ]
    },
    {
     "name": "stdout",
     "output_type": "stream",
     "text": [
      "100 True\n"
     ]
    },
    {
     "name": "stderr",
     "output_type": "stream",
     "text": [
      "127.0.0.1 - - [20/May/2022 20:28:53] \"\u001b[37mPOST /predict HTTP/1.1\u001b[0m\" 200 -\n"
     ]
    },
    {
     "name": "stdout",
     "output_type": "stream",
     "text": [
      "100 False\n"
     ]
    },
    {
     "name": "stderr",
     "output_type": "stream",
     "text": [
      "127.0.0.1 - - [20/May/2022 20:29:02] \"\u001b[37mPOST /predict HTTP/1.1\u001b[0m\" 200 -\n"
     ]
    },
    {
     "name": "stdout",
     "output_type": "stream",
     "text": [
      "100 True\n"
     ]
    },
    {
     "name": "stderr",
     "output_type": "stream",
     "text": [
      "127.0.0.1 - - [20/May/2022 20:29:05] \"\u001b[37mPOST /predict HTTP/1.1\u001b[0m\" 200 -\n",
      "127.0.0.1 - - [20/May/2022 20:29:14] \"\u001b[37mGET / HTTP/1.1\u001b[0m\" 200 -\n",
      "127.0.0.1 - - [20/May/2022 20:29:15] \"\u001b[37mGET /static/css/style.css HTTP/1.1\u001b[0m\" 200 -\n"
     ]
    },
    {
     "name": "stdout",
     "output_type": "stream",
     "text": [
      "100 True\n"
     ]
    },
    {
     "name": "stderr",
     "output_type": "stream",
     "text": [
      "127.0.0.1 - - [20/May/2022 20:29:36] \"\u001b[37mPOST /predict HTTP/1.1\u001b[0m\" 200 -\n",
      "127.0.0.1 - - [20/May/2022 20:30:02] \"\u001b[37mGET / HTTP/1.1\u001b[0m\" 200 -\n"
     ]
    },
    {
     "name": "stdout",
     "output_type": "stream",
     "text": [
      "100 True\n"
     ]
    },
    {
     "name": "stderr",
     "output_type": "stream",
     "text": [
      "127.0.0.1 - - [20/May/2022 20:30:15] \"\u001b[37mPOST /predict HTTP/1.1\u001b[0m\" 200 -\n"
     ]
    },
    {
     "name": "stdout",
     "output_type": "stream",
     "text": [
      "100 False\n"
     ]
    },
    {
     "name": "stderr",
     "output_type": "stream",
     "text": [
      "127.0.0.1 - - [20/May/2022 20:30:25] \"\u001b[37mPOST /predict HTTP/1.1\u001b[0m\" 200 -\n",
      "127.0.0.1 - - [20/May/2022 20:31:05] \"\u001b[37mGET / HTTP/1.1\u001b[0m\" 200 -\n",
      "127.0.0.1 - - [20/May/2022 20:31:06] \"\u001b[37mGET /static/css/style.css HTTP/1.1\u001b[0m\" 200 -\n",
      "127.0.0.1 - - [20/May/2022 20:31:07] \"\u001b[33mGET /favicon.ico HTTP/1.1\u001b[0m\" 404 -\n"
     ]
    }
   ],
   "source": [
    "app = Flask(__name__, template_folder='/content')\n",
    "\n",
    "@app.route('/')\n",
    "def home():\n",
    "    return render_template('index.html')\n",
    "\n",
    "@app.route('/predict', methods=['POST'])\n",
    "def predict():\n",
    "    amount, strategy = request.form.values()\n",
    "    strategy = strategy == 'YES'\n",
    "    print(amount, strategy)\n",
    "    output = model(int(amount), strategy)\n",
    "\n",
    "    if output > 0:\n",
    "        output = f'Вы бы могли заработать ${output}!'\n",
    "    else:\n",
    "        output = f'К сожалению вы бы ничего не заработали и ушли в минус :(  ${output}!'\n",
    "\n",
    "    return render_template('index.html', prediction_text=output)\n",
    "\n",
    "\n",
    "app.run(port=80)"
   ]
  }
 ],
 "metadata": {
  "colab": {
   "collapsed_sections": [],
   "name": "UFC Betting Flask",
   "provenance": []
  },
  "kernelspec": {
   "display_name": "Python 3",
   "language": "python",
   "name": "python3"
  },
  "language_info": {
   "codemirror_mode": {
    "name": "ipython",
    "version": 3
   },
   "file_extension": ".py",
   "mimetype": "text/x-python",
   "name": "python",
   "nbconvert_exporter": "python",
   "pygments_lexer": "ipython3",
   "version": "3.8.6"
  }
 },
 "nbformat": 4,
 "nbformat_minor": 1
}
