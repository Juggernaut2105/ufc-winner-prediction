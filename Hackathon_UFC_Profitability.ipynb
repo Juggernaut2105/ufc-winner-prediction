{
  "nbformat": 4,
  "nbformat_minor": 0,
  "metadata": {
    "colab": {
      "name": "Prod UFC Betting Flask",
      "provenance": [],
      "collapsed_sections": []
    },
    "kernelspec": {
      "name": "python3",
      "display_name": "Python 3"
    },
    "language_info": {
      "name": "python"
    }
  },
  "cells": [
    {
      "cell_type": "markdown",
      "source": [
        "# Предсказание бойца - победителя UFC\n",
        "## Расчет прибыльности\n",
        "### Межгалактический хакатон 2022\n",
        "Команда \"Meldonium\" <br/>\n",
        "Состав: Вячеслав Барков, Павел Мамаев, Сергей Глуховский, Алексей Недоливко, Андрей Рем, Иван Ершов"
      ],
      "metadata": {
        "id": "cnAKMNtpBMS7"
      }
    },
    {
      "cell_type": "code",
      "source": [
        "import numpy as np\n",
        "from flask import Flask, request, render_template\n",
        "import pickle"
      ],
      "metadata": {
        "id": "I-P1g8rHlcue"
      },
      "execution_count": null,
      "outputs": []
    },
    {
      "cell_type": "code",
      "source": [
        "path = 'predictions.bin'\n",
        "with open(path, 'rb') as f:\n",
        "\tdata  = pickle.load(f)"
      ],
      "metadata": {
        "id": "LlelQjxu5uJx"
      },
      "execution_count": null,
      "outputs": []
    },
    {
      "cell_type": "code",
      "source": [
        "def model(amount, use_model_strategy=True):\n",
        "    if use_model_strategy:\n",
        "        bank = 0\n",
        "        for ind in data.index:\n",
        "            winner, y_pred, odd1, odd2 = data.loc[ind, ['winner', 'prediction', 'f1_odds', 'f2_odds']]\n",
        "            if winner == y_pred:\n",
        "                if winner:\n",
        "                    win_odd = odd1\n",
        "                else:\n",
        "                    win_odd = odd2\n",
        "            else:\n",
        "                win_odd = 0\n",
        "            bank += amount * win_odd - amount\n",
        "        return bank\n",
        "    else:\n",
        "        bank = 0\n",
        "        for ind in data.index:\n",
        "            winner, y_pred, odd1, odd2 = data.loc[ind, ['winner', 'prediction', 'f1_odds', 'f2_odds']]\n",
        "            favourite = min(odd1, odd2)\n",
        "            if ((favourite == odd1) and winner) or ((favourite == odd2) and ~winner):\n",
        "                win_odd = favourite\n",
        "            else: \n",
        "                win_odd = 0\n",
        "            bank += amount*win_odd - amount\n",
        "        return bank"
      ],
      "metadata": {
        "id": "UEytI8NkBcai"
      },
      "execution_count": null,
      "outputs": []
    },
    {
      "cell_type": "code",
      "source": [
        "app = Flask(__name__, template_folder='/templates')\n",
        "\n",
        "@app.route('/')\n",
        "def home():\n",
        "    return render_template('index.html')\n",
        "\n",
        "@app.route('/predict', methods=['POST'])\n",
        "def predict():\n",
        "    amount, strategy = request.form.values()\n",
        "    strategy = strategy == 'YES'\n",
        "    print(amount, strategy)\n",
        "    output = model(int(amount), strategy)\n",
        "\n",
        "    if output > 0:\n",
        "        output = f'Вы бы могли заработать ${output}!'\n",
        "    else:\n",
        "        output = f'К сожалению вы бы ничего не заработали и ушли в минус :(  ${output}!'\n",
        "\n",
        "    return render_template('index.html', prediction_text=output)\n",
        "\n",
        "app.run(port=80)"
      ],
      "metadata": {
        "id": "ZomcQrNzR1ls"
      },
      "execution_count": null,
      "outputs": []
    }
  ]
}